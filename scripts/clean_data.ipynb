{
 "cells": [
  {
   "cell_type": "code",
   "id": "initial_id",
   "metadata": {
    "collapsed": true,
    "ExecuteTime": {
     "end_time": "2025-03-06T13:01:44.699459Z",
     "start_time": "2025-03-06T13:01:43.209374Z"
    }
   },
   "source": [
    "import pandas as pd\n",
    "import numpy as np\n"
   ],
   "outputs": [],
   "execution_count": 1
  },
  {
   "metadata": {
    "ExecuteTime": {
     "end_time": "2025-03-06T13:02:02.826272Z",
     "start_time": "2025-03-06T13:01:44.701181Z"
    }
   },
   "cell_type": "code",
   "source": [
    "campaigns = pd.read_csv('D:/datasets/assigment/campaigns.csv')\n",
    "client_first_purchase_date = pd.read_csv('D:/datasets/assigment/client_first_purchase_date.csv')\n",
    "events = pd.read_csv('D:/datasets/assigment/events.csv')\n",
    "friends = pd.read_csv('D:/datasets/assigment/friends.csv')\n",
    "messages = pd.read_csv('D:/datasets/assigment/messages.csv')"
   ],
   "id": "9e7895e4f361d04d",
   "outputs": [
    {
     "name": "stderr",
     "output_type": "stream",
     "text": [
      "C:\\Users\\nikit\\AppData\\Local\\Temp\\ipykernel_14292\\2938535284.py:5: DtypeWarning: Columns (7,8,16,17,21,23,25,27,29) have mixed types. Specify dtype option on import or set low_memory=False.\n",
      "  messages = pd.read_csv('D:/datasets/assigment/messages.csv')\n"
     ]
    }
   ],
   "execution_count": 2
  },
  {
   "metadata": {},
   "cell_type": "markdown",
   "source": "# Clean Data for PostgreSQL",
   "id": "f178e4d46188fed"
  },
  {
   "metadata": {
    "ExecuteTime": {
     "end_time": "2025-03-04T21:39:56.492964Z",
     "start_time": "2025-03-04T21:39:56.469910Z"
    }
   },
   "cell_type": "code",
   "source": [
    "def clean_campaigns(campaigns : pd.core.frame.DataFrame) -> pd.core.frame.DataFrame:\n",
    "    \n",
    "    campaigns['total_count'] = campaigns['total_count'].astype('object')\n",
    "    campaigns['hour_limit'] = campaigns['hour_limit'].astype('object')\n",
    "    campaigns['subject_length'] = campaigns['subject_length'].astype('object')\n",
    "    campaigns['position'] = campaigns['position'].astype('object')\n",
    "    \n",
    "    for i, row in campaigns.iterrows():\n",
    "        if not pd.isna(row['total_count']):\n",
    "            campaigns.at[i,'total_count'] = int(row['total_count'])\n",
    "        if not pd.isna(row['hour_limit']):\n",
    "            campaigns.at[i,'hour_limit'] = int(row['hour_limit'])\n",
    "        if not pd.isna(row['subject_length']):\n",
    "            campaigns.at[i,'subject_length'] = int(row['subject_length'])\n",
    "        if not pd.isna(row['position']):\n",
    "            campaigns.at[i,'position'] = int(row['position'])\n",
    "        if pd.isna(row['ab_test']):\n",
    "            campaigns.at[i,'ab_test'] = False\n",
    "        # if pd.isna(row['hour_limit']):\n",
    "        #     campaigns.at[i,'hour_limit'] = \"null\"\n",
    "            \n",
    "   \n",
    "    \n",
    "    return campaigns"
   ],
   "id": "941161603daad2df",
   "outputs": [],
   "execution_count": 4
  },
  {
   "metadata": {
    "ExecuteTime": {
     "end_time": "2025-03-04T21:39:56.506986Z",
     "start_time": "2025-03-04T21:39:56.499018Z"
    }
   },
   "cell_type": "code",
   "source": [
    "def clean_events(events : pd.core.frame.DataFrame) -> pd.core.frame.DataFrame:\n",
    "    \n",
    "    events['event_time'] = events['event_time'].astype(str).str.replace(\" UTC\", \"\", regex=False)\n",
    "    events['event_time'] = pd.to_datetime(events['event_time'])\n",
    "    \n",
    "    events['price'] = pd.to_numeric(events['price'])\n",
    "    \n",
    "    return events"
   ],
   "id": "c39f7b26aecc6c9d",
   "outputs": [],
   "execution_count": 5
  },
  {
   "metadata": {
    "ExecuteTime": {
     "end_time": "2025-03-04T21:39:56.520237Z",
     "start_time": "2025-03-04T21:39:56.511150Z"
    }
   },
   "cell_type": "code",
   "source": [
    "def clean_messages(messages : pd.core.frame.DataFrame) -> pd.core.frame.DataFrame:\n",
    "      date_columns = [\n",
    "        'date', 'sent_at', 'opened_first_time_at', 'opened_last_time_at',\n",
    "        'clicked_first_time_at', 'clicked_last_time_at', 'unsubscribed_at',\n",
    "        'hard_bounced_at', 'soft_bounced_at', 'complained_at', 'blocked_at',\n",
    "        'purchased_at', 'created_at', 'updated_at'\n",
    "      ]\n",
    "      \n",
    "      for col in date_columns:\n",
    "          if col in messages.columns:\n",
    "              messages[col] = pd.to_datetime(messages[col], errors='coerce')\n",
    "              \n",
    "      boolean_cols = [\n",
    "        'is_opened', 'is_clicked', 'is_unsubscribed', 'is_hard_bounced',\n",
    "        'is_soft_bounced', 'is_complained', 'is_blocked', 'is_purchased'\n",
    "      ]\n",
    "      \n",
    "      for col in boolean_cols:\n",
    "          if col in messages.columns:\n",
    "              messages[col] = messages[col].map({'t': True, 'f': False})\n",
    "              \n",
    "      return messages"
   ],
   "id": "ab30cc3018c46cd8",
   "outputs": [],
   "execution_count": 6
  },
  {
   "metadata": {
    "ExecuteTime": {
     "end_time": "2025-03-04T21:39:56.529390Z",
     "start_time": "2025-03-04T21:39:56.523135Z"
    }
   },
   "cell_type": "code",
   "source": [
    "def clean_friends(friends : pd.core.frame.DataFrame) -> pd.core.frame.DataFrame:\n",
    "    \n",
    "    friends['friend1'] = pd.to_numeric(friends['friend1'])\n",
    "    friends['friend2'] = pd.to_numeric(friends['friend2'])\n",
    "    \n",
    "    return friends\n"
   ],
   "id": "1dba15b1ccf1ef65",
   "outputs": [],
   "execution_count": 7
  },
  {
   "metadata": {
    "ExecuteTime": {
     "end_time": "2025-03-04T21:39:56.540964Z",
     "start_time": "2025-03-04T21:39:56.532998Z"
    }
   },
   "cell_type": "code",
   "source": [
    "def clean_client_first_purchase_date(cfp_data : pd.core.frame.DataFrame) -> pd.core.frame.DataFrame:\n",
    "    \n",
    "    cfp_data['first_purchase_date'] = pd.to_datetime(cfp_data['first_purchase_date'])\n",
    "    \n",
    "    return cfp_data"
   ],
   "id": "b39b75b642162a8f",
   "outputs": [],
   "execution_count": 8
  },
  {
   "metadata": {
    "ExecuteTime": {
     "end_time": "2025-03-04T21:40:07.062014Z",
     "start_time": "2025-03-04T21:39:56.543587Z"
    }
   },
   "cell_type": "code",
   "source": [
    "clean_campaingns_data = clean_campaigns(campaigns)\n",
    "clean_events_data = clean_events(events)\n",
    "clean_messages_data = clean_messages(messages)\n",
    "clean_friends_data = clean_friends(friends)\n",
    "clean_client_first_purchase_date_data = clean_client_first_purchase_date(client_first_purchase_date)"
   ],
   "id": "a7fbc4eeccc26fce",
   "outputs": [],
   "execution_count": 9
  },
  {
   "metadata": {
    "ExecuteTime": {
     "end_time": "2025-03-04T21:40:59.911438Z",
     "start_time": "2025-03-04T21:40:07.070984Z"
    }
   },
   "cell_type": "code",
   "source": [
    "clean_campaingns_data.to_csv('D:/datasets/assigment/cleaned/Clean_Campaings.csv', index=False)\n",
    "clean_events_data.to_csv('D:/datasets/assigment/cleaned/Clean_Events.csv', index=False)\n",
    "clean_messages_data.to_csv('D:/datasets/assigment/cleaned/Clean_Messages.csv', index=False)\n",
    "clean_friends_data.to_csv('D:/datasets/assigment/cleaned/Clean_Friends.csv', index=False)\n",
    "client_first_purchase_date.to_csv('D:/datasets/assigment/cleaned/Clean_client_first_purchase_date.csv', index=False)"
   ],
   "id": "fdd4bfa1a7eb5432",
   "outputs": [],
   "execution_count": 10
  },
  {
   "metadata": {},
   "cell_type": "markdown",
   "source": "# Clean Data for MongoDB",
   "id": "4cbe61af635a2d50"
  },
  {
   "metadata": {
    "ExecuteTime": {
     "end_time": "2025-03-06T13:02:15.509874Z",
     "start_time": "2025-03-06T13:02:15.502777Z"
    }
   },
   "cell_type": "code",
   "source": [
    "import json\n",
    "from datetime import datetime"
   ],
   "id": "7ed866da58e22d1",
   "outputs": [],
   "execution_count": 3
  },
  {
   "metadata": {
    "ExecuteTime": {
     "end_time": "2025-03-06T13:02:17.556167Z",
     "start_time": "2025-03-06T13:02:17.533288Z"
    }
   },
   "cell_type": "code",
   "source": [
    "def processing_nan(value_in_row):\n",
    "     if not pd.isna(value_in_row):\n",
    "            return int(value_in_row)\n",
    "     else:\n",
    "         return None"
   ],
   "id": "c90eccf8eda667e",
   "outputs": [],
   "execution_count": 4
  },
  {
   "metadata": {
    "ExecuteTime": {
     "end_time": "2025-03-06T13:02:17.564569Z",
     "start_time": "2025-03-06T13:02:17.559614Z"
    }
   },
   "cell_type": "code",
   "source": [
    "def processing_date(dates_in_row):\n",
    "    return pd.to_datetime(dates_in_row).isoformat()"
   ],
   "id": "6859a1be4a0547a8",
   "outputs": [],
   "execution_count": 5
  },
  {
   "metadata": {
    "ExecuteTime": {
     "end_time": "2025-03-06T13:02:18.932796Z",
     "start_time": "2025-03-06T13:02:18.923357Z"
    }
   },
   "cell_type": "code",
   "source": [
    "def preproc_campaings(row):\n",
    "\n",
    "\n",
    "    \n",
    "    composite_key = str(row['id']) + '_' + row['campaign_type']\n",
    "    \n",
    "    mongo_row = {\n",
    "        '_id': composite_key,\n",
    "        'id': row['id'],\n",
    "        'campaign_type': row['campaign_type'],\n",
    "        'channel': row['channel'],\n",
    "        'topic': row['topic'],\n",
    "        'started_at': processing_date(row['started_at']),\n",
    "        'finished_at': processing_date(row['finished_at']),\n",
    "        'total_count': processing_nan(row['total_count']),\n",
    "        'ab_test': row['ab_test'],\n",
    "        'warmup_mode': row['warmup_mode'],\n",
    "        'subject' : {\n",
    "            'length' : processing_nan(row['subject_length']),\n",
    "            'with_personalization' : row['subject_with_personalization'],\n",
    "            'with_deadline' : row['subject_with_deadline'],\n",
    "            'with_emoji': row['subject_with_emoji'],\n",
    "            'with_bonuses': row['subject_with_bonuses'],\n",
    "            'with_discount' : row['subject_with_discount'],\n",
    "            'with_saleout' : row['subject_with_saleout'],\n",
    "        },\n",
    "        'is_test': row['is_test'],\n",
    "        'position': processing_nan(row['position']),\n",
    "    }    \n",
    "\n",
    "        \n",
    "        \n",
    "    return mongo_row\n",
    "    "
   ],
   "id": "3bcbb85232c3d911",
   "outputs": [],
   "execution_count": 6
  },
  {
   "metadata": {
    "ExecuteTime": {
     "end_time": "2025-03-04T18:09:27.324026Z",
     "start_time": "2025-03-04T18:09:27.317588Z"
    }
   },
   "cell_type": "code",
   "source": [
    "def preproc_event(row):\n",
    "\n",
    "\n",
    "\n",
    "    mongo_row = {\n",
    "        'event_time': processing_date(row['event_time']),\n",
    "        'event_type': row['event_type'],\n",
    "        'product':{\n",
    "            'product_id': int(row['product_id']),\n",
    "            'category_id': int(row['category_id']),\n",
    "            'category_code': row['category_code'],\n",
    "            'brand': row['brand'],\n",
    "            'price': processing_nan(row['price']),\n",
    "        },\n",
    "        'user':{\n",
    "            'user_id': int(row['user_id']),\n",
    "            'user_session': row['user_session'],\n",
    "        }\n",
    "    }\n",
    "\n",
    "        \n",
    "\n",
    "    return mongo_row  "
   ],
   "id": "bfd5b51a990fa05e",
   "outputs": [],
   "execution_count": 29
  },
  {
   "metadata": {
    "ExecuteTime": {
     "end_time": "2025-03-04T18:09:27.333355Z",
     "start_time": "2025-03-04T18:09:27.327796Z"
    }
   },
   "cell_type": "code",
   "source": [
    "def preproc_friends(row):\n",
    "    \n",
    "\n",
    "    mongo_row = {\n",
    "        'friend1' : int(row['friend1']),\n",
    "        'friend2' : int(row['friend2']),\n",
    "    }\n",
    "    \n",
    "\n",
    "        \n",
    "    return mongo_row\n",
    "        "
   ],
   "id": "3810d2412f14b514",
   "outputs": [],
   "execution_count": 30
  },
  {
   "metadata": {
    "ExecuteTime": {
     "end_time": "2025-03-04T18:09:27.345237Z",
     "start_time": "2025-03-04T18:09:27.336974Z"
    }
   },
   "cell_type": "code",
   "source": [
    "def preproc_client_first_purchase_date(row):\n",
    "\n",
    "    \n",
    "    mongo_row = {\n",
    "        'client_id' : int(row['client_id']),\n",
    "        'first_purchase_date' : processing_date(row['first_purchase_date']),\n",
    "        'user_id' : int(row['user_id']),\n",
    "        'user_device_id': int(row['user_device_id']),\n",
    "    }\n",
    "    \n",
    "   \n",
    "        \n",
    "    \n",
    "    return mongo_row"
   ],
   "id": "b287a28bfc74e149",
   "outputs": [],
   "execution_count": 31
  },
  {
   "metadata": {
    "ExecuteTime": {
     "end_time": "2025-03-06T13:03:38.853007Z",
     "start_time": "2025-03-06T13:03:38.844110Z"
    }
   },
   "cell_type": "code",
   "source": [
    "\n",
    "def preproc_messages(row):\n",
    "        \n",
    "    mongo_row = {\n",
    "        'message_id': row['message_id'],\n",
    "        'campaign_id' : int(row['campaign_id']),\n",
    "        'message_type': row['message_type'],\n",
    "        'client_id' : int(row['client_id']),\n",
    "        'channel' : row['channel'],\n",
    "        'platform' : row['platform'],\n",
    "        'email_provider' : row['email_provider'],\n",
    "        'stream' : row['stream'],\n",
    "        'sent_at': processing_date(row['sent_at']),\n",
    "        'status':{\n",
    "            'is_opened' : row['is_opened'],\n",
    "            'opened_at' : {\n",
    "                'first' : processing_date(row['opened_first_time_at']),\n",
    "                'last' : processing_date(row['opened_last_time_at']),\n",
    "            },\n",
    "            'is_clicked': row['is_clicked'],\n",
    "            'clicked_at' : {\n",
    "                'first' : processing_date(row['clicked_first_time_at']),\n",
    "                'last' : processing_date(row['clicked_last_time_at']),\n",
    "            },\n",
    "            'is_unsubscribed': row['is_unsubscribed'],\n",
    "            'is_hard_bounced': row['is_hard_bounced'],\n",
    "            'is_soft_bounced': row['is_soft_bounced'],\n",
    "            'is_complained' : row['is_complained'],\n",
    "            'is_blocked': row['is_blocked'],\n",
    "            'is_purchased': row['is_purchased'],\n",
    "            'purchased_at' : processing_date(row['purchased_at']),\n",
    "        },\n",
    "        'created_at': processing_date(row['created_at']),\n",
    "        'updated_at': processing_date(row['updated_at']),\n",
    "        'user_device_id' : int(row['user_device_id']),\n",
    "        'user_id': int(row['user_id']),\n",
    "        \n",
    "    }\n",
    "\n",
    "    return mongo_row"
   ],
   "id": "8c05cd4d5f8ddf18",
   "outputs": [],
   "execution_count": 9
  },
  {
   "metadata": {
    "ExecuteTime": {
     "end_time": "2025-03-06T13:02:25.981843Z",
     "start_time": "2025-03-06T13:02:23.784520Z"
    }
   },
   "cell_type": "code",
   "source": "campaigns_json_preproc = campaigns.apply(preproc_campaings, axis=1)\n",
   "id": "2fabe181811420ad",
   "outputs": [],
   "execution_count": 7
  },
  {
   "metadata": {
    "ExecuteTime": {
     "end_time": "2025-03-04T18:12:35.555561Z",
     "start_time": "2025-03-04T18:12:04.653660Z"
    }
   },
   "cell_type": "code",
   "source": "events_json_preproc = events.apply(preproc_event, axis=1)",
   "id": "ef1a12d1e875d4e7",
   "outputs": [],
   "execution_count": 40
  },
  {
   "metadata": {
    "ExecuteTime": {
     "end_time": "2025-03-04T18:12:47.674917Z",
     "start_time": "2025-03-04T18:12:35.558099Z"
    }
   },
   "cell_type": "code",
   "source": "friends_json_preproc = friends.apply(preproc_friends, axis=1)",
   "id": "4cb60be849d01797",
   "outputs": [],
   "execution_count": 41
  },
  {
   "metadata": {
    "ExecuteTime": {
     "end_time": "2025-03-04T18:12:49.981719Z",
     "start_time": "2025-03-04T18:12:47.676315Z"
    }
   },
   "cell_type": "code",
   "source": "client_first_purchase_date_json_preproc = client_first_purchase_date.apply(preproc_client_first_purchase_date, axis=1)\n",
   "id": "92ac918510785eb8",
   "outputs": [],
   "execution_count": 42
  },
  {
   "metadata": {
    "jupyter": {
     "is_executing": true
    },
    "ExecuteTime": {
     "start_time": "2025-03-04T18:38:27.555091Z"
    }
   },
   "cell_type": "code",
   "source": "messages_json_preproc = messages.apply(preproc_messages, axis=1)\n",
   "id": "289c9a5c41efa226",
   "outputs": [],
   "execution_count": null
  },
  {
   "metadata": {},
   "cell_type": "code",
   "source": "path = 'D:/datasets/assigment/cleaned/MongoDB_Data/'",
   "id": "4e17e0d9a94ed99c",
   "outputs": [],
   "execution_count": null
  },
  {
   "metadata": {
    "ExecuteTime": {
     "end_time": "2025-03-04T18:32:46.454605Z",
     "start_time": "2025-03-04T18:32:46.431157Z"
    }
   },
   "cell_type": "code",
   "source": "campaigns_json_preproc.reset_index().to_json(path+'campaigns.json', orient='records', date_format='iso')",
   "id": "a17ea9bb9fa8070e",
   "outputs": [],
   "execution_count": 55
  },
  {
   "metadata": {
    "ExecuteTime": {
     "end_time": "2025-03-04T18:32:51.925930Z",
     "start_time": "2025-03-04T18:32:47.362865Z"
    }
   },
   "cell_type": "code",
   "source": "events_json_preproc.reset_index().to_json(path+'events.json', orient='records', date_format='iso')",
   "id": "530d56d46901b3e9",
   "outputs": [],
   "execution_count": 56
  },
  {
   "metadata": {
    "ExecuteTime": {
     "end_time": "2025-03-04T18:32:54.053161Z",
     "start_time": "2025-03-04T18:32:51.927498Z"
    }
   },
   "cell_type": "code",
   "source": "friends_json_preproc.reset_index().to_json(path+'friends.json', orient='records', date_format='iso')",
   "id": "11c8caf23dda324b",
   "outputs": [],
   "execution_count": 57
  },
  {
   "metadata": {
    "ExecuteTime": {
     "end_time": "2025-03-04T18:32:54.390439Z",
     "start_time": "2025-03-04T18:32:54.054529Z"
    }
   },
   "cell_type": "code",
   "source": "client_first_purchase_date_json_preproc.reset_index().to_json(path+'cfp_date.json', orient='records', date_format='iso')",
   "id": "efa524df3353a35d",
   "outputs": [],
   "execution_count": 58
  },
  {
   "metadata": {
    "ExecuteTime": {
     "end_time": "2025-03-06T13:02:36.910133Z",
     "start_time": "2025-03-06T13:02:36.895915Z"
    }
   },
   "cell_type": "code",
   "source": "campaigns_json_preproc",
   "id": "a40ae3a5a7ba8f22",
   "outputs": [
    {
     "data": {
      "text/plain": [
       "0       {'_id': '63_bulk', 'id': 63, 'campaign_type': ...\n",
       "1       {'_id': '64_bulk', 'id': 64, 'campaign_type': ...\n",
       "2       {'_id': '78_bulk', 'id': 78, 'campaign_type': ...\n",
       "3       {'_id': '79_bulk', 'id': 79, 'campaign_type': ...\n",
       "4       {'_id': '89_bulk', 'id': 89, 'campaign_type': ...\n",
       "                              ...                        \n",
       "1902    {'_id': '179_transactional', 'id': 179, 'campa...\n",
       "1903    {'_id': '35_transactional', 'id': 35, 'campaig...\n",
       "1904    {'_id': '57_transactional', 'id': 57, 'campaig...\n",
       "1905    {'_id': '56_transactional', 'id': 56, 'campaig...\n",
       "1906    {'_id': '237_transactional', 'id': 237, 'campa...\n",
       "Length: 1907, dtype: object"
      ]
     },
     "execution_count": 8,
     "metadata": {},
     "output_type": "execute_result"
    }
   ],
   "execution_count": 8
  },
  {
   "metadata": {
    "ExecuteTime": {
     "end_time": "2025-03-04T18:33:16.513278Z",
     "start_time": "2025-03-04T18:33:15.863662Z"
    }
   },
   "cell_type": "code",
   "source": [
    "del(campaigns_json_preproc)\n",
    "del(events_json_preproc)\n",
    "del(friends_json_preproc)\n",
    "del(client_first_purchase_date_json_preproc)"
   ],
   "id": "564ce639096f4d0a",
   "outputs": [],
   "execution_count": 59
  },
  {
   "metadata": {},
   "cell_type": "markdown",
   "source": "### Clean Data for Neo4j\n",
   "id": "700e6c285731c956"
  },
  {
   "metadata": {
    "ExecuteTime": {
     "end_time": "2025-03-06T20:37:20.668139Z",
     "start_time": "2025-03-06T20:37:20.018428Z"
    }
   },
   "cell_type": "code",
   "source": [
    "import pandas as pd\n",
    "from datetime import datetime"
   ],
   "id": "948edf965e78b426",
   "outputs": [],
   "execution_count": 1
  },
  {
   "metadata": {
    "ExecuteTime": {
     "end_time": "2025-03-06T20:51:09.395324Z",
     "start_time": "2025-03-06T20:51:09.388147Z"
    }
   },
   "cell_type": "code",
   "source": [
    "\n",
    "\n",
    "def process_data_neo():\n",
    "\n",
    "    campaigns = pd.read_csv('.venv/BigData/data/campaigns.csv', parse_dates=['started_at', 'finished_at'])\n",
    "    campaigns = campaigns.drop_duplicates('id')\n",
    "    \n",
    "\n",
    "    events = pd.read_csv('.venv/BigData/data/events.csv', parse_dates=['event_time'])\n",
    "    events['event_time'] = events['event_time'].dt.tz_localize(None)\n",
    "    \n",
    "\n",
    "    messages = pd.read_csv('.venv/BigData/data/messages.csv')\n",
    "    bool_columns = ['is_opened', 'is_clicked', 'is_unsubscribed']\n",
    "    messages[bool_columns] = messages[bool_columns].replace({'t': True, 'f': False})\n",
    "    messages['sent_at'] = pd.to_datetime(messages['sent_at'])\n",
    "    \n",
    "  \n",
    "    friends = pd.read_csv('.venv/BigData/data/friends.csv')\n",
    "    \n",
    "\n",
    "    clients = pd.read_csv('.venv/BigData/data/client_first_purchase_date.csv', parse_dates=['first_purchase_date'])\n",
    "    \n",
    "\n",
    "    campaigns.to_csv('.venv/BigData/data/cleaned_data_neo/processed_campaigns.csv', index=False)\n",
    "    events.to_csv('.venv/BigData/data/cleaned_data_neo/processed_events.csv', index=False)\n",
    "    messages.to_csv('.venv/BigData/data/cleaned_data_neo/processed_messages.csv', index=False)\n",
    "    friends.to_csv('.venv/BigData/data/cleaned_data_neo/processed_friends.csv', index=False)\n",
    "    clients.to_csv('.venv/BigData/data/cleaned_data_neo/processed_clients.csv', index=False)"
   ],
   "id": "7df6402560e02898",
   "outputs": [],
   "execution_count": 10
  },
  {
   "metadata": {
    "ExecuteTime": {
     "end_time": "2025-03-06T20:52:23.136679Z",
     "start_time": "2025-03-06T20:51:10.161010Z"
    }
   },
   "cell_type": "code",
   "source": "process_data_neo()",
   "id": "dbe79506331b054f",
   "outputs": [
    {
     "name": "stderr",
     "output_type": "stream",
     "text": [
      "C:\\Users\\nikit\\AppData\\Local\\Temp\\ipykernel_15780\\2990645110.py:11: DtypeWarning: Columns (7,8,16,17,21,23,25,27,29) have mixed types. Specify dtype option on import or set low_memory=False.\n",
      "  messages = pd.read_csv('.venv/BigData/data/messages.csv')\n",
      "C:\\Users\\nikit\\AppData\\Local\\Temp\\ipykernel_15780\\2990645110.py:13: FutureWarning: Downcasting behavior in `replace` is deprecated and will be removed in a future version. To retain the old behavior, explicitly call `result.infer_objects(copy=False)`. To opt-in to the future behavior, set `pd.set_option('future.no_silent_downcasting', True)`\n",
      "  messages[bool_columns] = messages[bool_columns].replace({'t': True, 'f': False})\n"
     ]
    }
   ],
   "execution_count": 11
  },
  {
   "metadata": {},
   "cell_type": "code",
   "outputs": [],
   "execution_count": null,
   "source": "",
   "id": "a32a10b8097094d0"
  }
 ],
 "metadata": {
  "kernelspec": {
   "display_name": "Python 3",
   "language": "python",
   "name": "python3"
  },
  "language_info": {
   "codemirror_mode": {
    "name": "ipython",
    "version": 2
   },
   "file_extension": ".py",
   "mimetype": "text/x-python",
   "name": "python",
   "nbconvert_exporter": "python",
   "pygments_lexer": "ipython2",
   "version": "2.7.6"
  }
 },
 "nbformat": 4,
 "nbformat_minor": 5
}
