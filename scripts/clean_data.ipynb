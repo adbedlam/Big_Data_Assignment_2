{
 "cells": [
  {
   "cell_type": "code",
   "id": "initial_id",
   "metadata": {
    "collapsed": true,
    "ExecuteTime": {
     "end_time": "2025-03-09T16:43:03.179006Z",
     "start_time": "2025-03-09T16:43:03.174417Z"
    }
   },
   "source": [
    "import pandas as pd\n",
    "import numpy as np\n",
    "import swifter\n",
    "\n"
   ],
   "outputs": [],
   "execution_count": 69
  },
  {
   "metadata": {
    "ExecuteTime": {
     "end_time": "2025-03-09T16:43:35.080047Z",
     "start_time": "2025-03-09T16:43:04.545397Z"
    }
   },
   "cell_type": "code",
   "source": [
    "campaigns = pd.read_csv('D:/datasets/assigment/campaigns.csv')\n",
    "client_first_purchase_date = pd.read_csv('D:/datasets/assigment/client_first_purchase_date.csv')\n",
    "events = pd.read_csv('D:/datasets/assigment/events.csv')\n",
    "friends = pd.read_csv('D:/datasets/assigment/friends.csv')\n",
    "messages = pd.read_csv('D:/datasets/assigment/messages.csv',low_memory=False)"
   ],
   "id": "9e7895e4f361d04d",
   "outputs": [],
   "execution_count": 70
  },
  {
   "metadata": {},
   "cell_type": "markdown",
   "source": "# Clean Data for PostgreSQL",
   "id": "f178e4d46188fed"
  },
  {
   "metadata": {
    "ExecuteTime": {
     "end_time": "2025-03-09T13:43:59.587672Z",
     "start_time": "2025-03-09T13:43:59.582313Z"
    }
   },
   "cell_type": "code",
   "source": "path_sql = './data/cleaned_data_psql/'",
   "id": "1b130fe9424a4ad2",
   "outputs": [],
   "execution_count": 18
  },
  {
   "metadata": {
    "ExecuteTime": {
     "end_time": "2025-03-08T17:52:37.478633Z",
     "start_time": "2025-03-08T17:52:37.466620Z"
    }
   },
   "cell_type": "code",
   "source": [
    "def clean_campaigns(campaigns : pd.core.frame.DataFrame) -> pd.core.frame.DataFrame:\n",
    "    \n",
    "    campaigns['total_count'] = campaigns['total_count'].astype('object')\n",
    "    campaigns['hour_limit'] = campaigns['hour_limit'].astype('object')\n",
    "    campaigns['subject_length'] = campaigns['subject_length'].astype('object')\n",
    "    campaigns['position'] = campaigns['position'].astype('object')\n",
    "    \n",
    "    for i, row in campaigns.iterrows():\n",
    "        if not pd.isna(row['total_count']):\n",
    "            campaigns.at[i,'total_count'] = int(row['total_count'])\n",
    "        if not pd.isna(row['hour_limit']):\n",
    "            campaigns.at[i,'hour_limit'] = int(row['hour_limit'])\n",
    "        if not pd.isna(row['subject_length']):\n",
    "            campaigns.at[i,'subject_length'] = int(row['subject_length'])\n",
    "        if not pd.isna(row['position']):\n",
    "            campaigns.at[i,'position'] = int(row['position'])\n",
    "        if pd.isna(row['ab_test']):\n",
    "            campaigns.at[i,'ab_test'] = False\n",
    "        # if pd.isna(row['hour_limit']):\n",
    "        #     campaigns.at[i,'hour_limit'] = \"null\"\n",
    "            \n",
    "   \n",
    "    \n",
    "    return campaigns"
   ],
   "id": "941161603daad2df",
   "outputs": [],
   "execution_count": 51
  },
  {
   "metadata": {
    "ExecuteTime": {
     "end_time": "2025-03-08T18:01:36.028087Z",
     "start_time": "2025-03-08T18:01:36.022201Z"
    }
   },
   "cell_type": "code",
   "source": [
    "def clean_events(events : pd.core.frame.DataFrame):\n",
    "    \n",
    "    events['event_time'] = events['event_time'].astype(str).str.replace(\" UTC\", \"\", regex=False)\n",
    "    events['event_time'] = pd.to_datetime(events['event_time'])\n",
    "    \n",
    "    events['price'] = pd.to_numeric(events['price'])\n",
    "    \n",
    "    products = pd.DataFrame()\n",
    "    \n",
    "    products['product_id'] = events['product_id']\n",
    "    products['category_id'] = events['category_id']\n",
    "    \n",
    "    products['brand'] = events['brand']\n",
    "    products['category_code'] = events['category_code']\n",
    "    \n",
    "    events = events.drop(columns=['category_code','brand'])\n",
    "\n",
    "        \n",
    "    products['brand'] = products.groupby(['product_id', 'category_id', 'category_code'])['brand'].transform('first')\n",
    "    \n",
    "    \n",
    "    return events, products"
   ],
   "id": "c39f7b26aecc6c9d",
   "outputs": [],
   "execution_count": 70
  },
  {
   "metadata": {
    "ExecuteTime": {
     "end_time": "2025-03-08T17:52:37.508352Z",
     "start_time": "2025-03-08T17:52:37.493011Z"
    }
   },
   "cell_type": "code",
   "source": [
    "def clean_messages(messages : pd.core.frame.DataFrame) -> pd.core.frame.DataFrame:\n",
    "      date_columns = [\n",
    "        'date', 'sent_at', 'opened_first_time_at', 'opened_last_time_at',\n",
    "        'clicked_first_time_at', 'clicked_last_time_at', 'unsubscribed_at',\n",
    "        'hard_bounced_at', 'soft_bounced_at', 'complained_at', 'blocked_at',\n",
    "        'purchased_at', 'created_at', 'updated_at'\n",
    "      ]\n",
    "      \n",
    "      for col in date_columns:\n",
    "          if col in messages.columns:\n",
    "              messages[col] = pd.to_datetime(messages[col], errors='coerce')\n",
    "              \n",
    "      boolean_cols = [\n",
    "        'is_opened', 'is_clicked', 'is_unsubscribed', 'is_hard_bounced',\n",
    "        'is_soft_bounced', 'is_complained', 'is_blocked', 'is_purchased'\n",
    "      ]\n",
    "      \n",
    "      for col in boolean_cols:\n",
    "          if col in messages.columns:\n",
    "              messages[col] = messages[col].map({'t': True, 'f': False})\n",
    "              \n",
    "      return messages"
   ],
   "id": "ab30cc3018c46cd8",
   "outputs": [],
   "execution_count": 53
  },
  {
   "metadata": {
    "ExecuteTime": {
     "end_time": "2025-03-08T17:52:37.517994Z",
     "start_time": "2025-03-08T17:52:37.512159Z"
    }
   },
   "cell_type": "code",
   "source": [
    "def clean_friends(friends : pd.core.frame.DataFrame) -> pd.core.frame.DataFrame:\n",
    "    \n",
    "    friends['friend1'] = pd.to_numeric(friends['friend1'])\n",
    "    friends['friend2'] = pd.to_numeric(friends['friend2'])\n",
    "    \n",
    "    return friends\n"
   ],
   "id": "1dba15b1ccf1ef65",
   "outputs": [],
   "execution_count": 54
  },
  {
   "metadata": {
    "ExecuteTime": {
     "end_time": "2025-03-08T17:52:37.526998Z",
     "start_time": "2025-03-08T17:52:37.520624Z"
    }
   },
   "cell_type": "code",
   "source": [
    "def clean_client_first_purchase_date(cfp_data : pd.core.frame.DataFrame) -> pd.core.frame.DataFrame:\n",
    "    \n",
    "    cfp_data['first_purchase_date'] = pd.to_datetime(cfp_data['first_purchase_date'])\n",
    "    \n",
    "    return cfp_data"
   ],
   "id": "b39b75b642162a8f",
   "outputs": [],
   "execution_count": 55
  },
  {
   "metadata": {
    "ExecuteTime": {
     "end_time": "2025-03-08T18:01:47.206805Z",
     "start_time": "2025-03-08T18:01:39.614638Z"
    }
   },
   "cell_type": "code",
   "source": [
    "clean_campaingns_data = clean_campaigns(campaigns)\n",
    "clean_events_data, clean_products_data = clean_events(events)\n",
    "clean_messages_data = clean_messages(messages)\n",
    "clean_friends_data = clean_friends(friends)\n",
    "clean_client_first_purchase_date_data = clean_client_first_purchase_date(client_first_purchase_date)"
   ],
   "id": "a7fbc4eeccc26fce",
   "outputs": [],
   "execution_count": 71
  },
  {
   "metadata": {
    "ExecuteTime": {
     "end_time": "2025-03-08T18:02:33.543888Z",
     "start_time": "2025-03-08T18:02:33.533717Z"
    }
   },
   "cell_type": "code",
   "source": "clean_products_data",
   "id": "51085ccd661f6586",
   "outputs": [
    {
     "data": {
      "text/plain": [
       "         product_id          category_id    brand  \\\n",
       "0           1005073  2053013555631882655  samsung   \n",
       "1           1004856  2053013555631882655  samsung   \n",
       "2           1004856  2053013555631882655  samsung   \n",
       "3           1004856  2053013555631882655  samsung   \n",
       "4           5100503  2053013553375346967      NaN   \n",
       "...             ...                  ...      ...   \n",
       "1287265     4100126  2232732098228126185     sony   \n",
       "1287266     1801940  2232732099754852875    haier   \n",
       "1287267     1004935  2232732093077520756     vivo   \n",
       "1287268     1005190  2232732093077520756     vivo   \n",
       "1287269     5100445  2232732103101907535   garmin   \n",
       "\n",
       "                        category_code  \n",
       "0              electronics.smartphone  \n",
       "1              electronics.smartphone  \n",
       "2              electronics.smartphone  \n",
       "3              electronics.smartphone  \n",
       "4                                 NaN  \n",
       "...                               ...  \n",
       "1287265                 apparel.shoes  \n",
       "1287266  appliances.personal.massager  \n",
       "1287267      construction.tools.light  \n",
       "1287268      construction.tools.light  \n",
       "1287269            electronics.clocks  \n",
       "\n",
       "[1287270 rows x 4 columns]"
      ],
      "text/html": [
       "<div>\n",
       "<style scoped>\n",
       "    .dataframe tbody tr th:only-of-type {\n",
       "        vertical-align: middle;\n",
       "    }\n",
       "\n",
       "    .dataframe tbody tr th {\n",
       "        vertical-align: top;\n",
       "    }\n",
       "\n",
       "    .dataframe thead th {\n",
       "        text-align: right;\n",
       "    }\n",
       "</style>\n",
       "<table border=\"1\" class=\"dataframe\">\n",
       "  <thead>\n",
       "    <tr style=\"text-align: right;\">\n",
       "      <th></th>\n",
       "      <th>product_id</th>\n",
       "      <th>category_id</th>\n",
       "      <th>brand</th>\n",
       "      <th>category_code</th>\n",
       "    </tr>\n",
       "  </thead>\n",
       "  <tbody>\n",
       "    <tr>\n",
       "      <th>0</th>\n",
       "      <td>1005073</td>\n",
       "      <td>2053013555631882655</td>\n",
       "      <td>samsung</td>\n",
       "      <td>electronics.smartphone</td>\n",
       "    </tr>\n",
       "    <tr>\n",
       "      <th>1</th>\n",
       "      <td>1004856</td>\n",
       "      <td>2053013555631882655</td>\n",
       "      <td>samsung</td>\n",
       "      <td>electronics.smartphone</td>\n",
       "    </tr>\n",
       "    <tr>\n",
       "      <th>2</th>\n",
       "      <td>1004856</td>\n",
       "      <td>2053013555631882655</td>\n",
       "      <td>samsung</td>\n",
       "      <td>electronics.smartphone</td>\n",
       "    </tr>\n",
       "    <tr>\n",
       "      <th>3</th>\n",
       "      <td>1004856</td>\n",
       "      <td>2053013555631882655</td>\n",
       "      <td>samsung</td>\n",
       "      <td>electronics.smartphone</td>\n",
       "    </tr>\n",
       "    <tr>\n",
       "      <th>4</th>\n",
       "      <td>5100503</td>\n",
       "      <td>2053013553375346967</td>\n",
       "      <td>NaN</td>\n",
       "      <td>NaN</td>\n",
       "    </tr>\n",
       "    <tr>\n",
       "      <th>...</th>\n",
       "      <td>...</td>\n",
       "      <td>...</td>\n",
       "      <td>...</td>\n",
       "      <td>...</td>\n",
       "    </tr>\n",
       "    <tr>\n",
       "      <th>1287265</th>\n",
       "      <td>4100126</td>\n",
       "      <td>2232732098228126185</td>\n",
       "      <td>sony</td>\n",
       "      <td>apparel.shoes</td>\n",
       "    </tr>\n",
       "    <tr>\n",
       "      <th>1287266</th>\n",
       "      <td>1801940</td>\n",
       "      <td>2232732099754852875</td>\n",
       "      <td>haier</td>\n",
       "      <td>appliances.personal.massager</td>\n",
       "    </tr>\n",
       "    <tr>\n",
       "      <th>1287267</th>\n",
       "      <td>1004935</td>\n",
       "      <td>2232732093077520756</td>\n",
       "      <td>vivo</td>\n",
       "      <td>construction.tools.light</td>\n",
       "    </tr>\n",
       "    <tr>\n",
       "      <th>1287268</th>\n",
       "      <td>1005190</td>\n",
       "      <td>2232732093077520756</td>\n",
       "      <td>vivo</td>\n",
       "      <td>construction.tools.light</td>\n",
       "    </tr>\n",
       "    <tr>\n",
       "      <th>1287269</th>\n",
       "      <td>5100445</td>\n",
       "      <td>2232732103101907535</td>\n",
       "      <td>garmin</td>\n",
       "      <td>electronics.clocks</td>\n",
       "    </tr>\n",
       "  </tbody>\n",
       "</table>\n",
       "<p>1287270 rows × 4 columns</p>\n",
       "</div>"
      ]
     },
     "execution_count": 72,
     "metadata": {},
     "output_type": "execute_result"
    }
   ],
   "execution_count": 72
  },
  {
   "metadata": {
    "ExecuteTime": {
     "end_time": "2025-03-08T18:03:33.456838Z",
     "start_time": "2025-03-08T18:02:34.298833Z"
    }
   },
   "cell_type": "code",
   "source": [
    "clean_campaingns_data.to_csv(f'{path_sql}/Clean_Campaings.csv', index=False)\n",
    "clean_events_data.to_csv(f'{path_sql}/Clean_Events.csv', index=False)\n",
    "clean_products_data.to_csv(f'{path_sql}/Clean_Products.csv', index=False)\n",
    "clean_messages_data.to_csv(f'{path_sql}/Clean_Messages.csv', index=False)\n",
    "clean_friends_data.to_csv(f'{path_sql}/Clean_Friends.csv', index=False)\n",
    "client_first_purchase_date.to_csv(f'{path_sql}/Clean_client_first_purchase_date.csv', index=False)"
   ],
   "id": "fdd4bfa1a7eb5432",
   "outputs": [],
   "execution_count": 73
  },
  {
   "metadata": {},
   "cell_type": "markdown",
   "source": "# Clean Data for MongoDB",
   "id": "4cbe61af635a2d50"
  },
  {
   "metadata": {
    "ExecuteTime": {
     "end_time": "2025-03-09T16:43:35.088484Z",
     "start_time": "2025-03-09T16:43:35.083059Z"
    }
   },
   "cell_type": "code",
   "source": [
    "import json\n",
    "import datetime\n",
    "from tqdm import  tqdm\n",
    "import multiprocessing as mp\n",
    "from bson import json_util\n",
    "import os\n",
    "import re"
   ],
   "id": "7ed866da58e22d1",
   "outputs": [],
   "execution_count": 71
  },
  {
   "metadata": {
    "ExecuteTime": {
     "end_time": "2025-03-09T16:43:35.099975Z",
     "start_time": "2025-03-09T16:43:35.091082Z"
    }
   },
   "cell_type": "code",
   "source": "tqdm.pandas()",
   "id": "c881892b119213bb",
   "outputs": [],
   "execution_count": 72
  },
  {
   "metadata": {
    "ExecuteTime": {
     "end_time": "2025-03-09T16:43:35.111558Z",
     "start_time": "2025-03-09T16:43:35.103711Z"
    }
   },
   "cell_type": "code",
   "source": [
    "def processing_nan(value_in_row):\n",
    "     if not pd.isna(value_in_row):\n",
    "            return int(value_in_row)\n",
    "     else:\n",
    "         return None"
   ],
   "id": "c90eccf8eda667e",
   "outputs": [],
   "execution_count": 73
  },
  {
   "metadata": {
    "ExecuteTime": {
     "end_time": "2025-03-09T16:43:35.121235Z",
     "start_time": "2025-03-09T16:43:35.114780Z"
    }
   },
   "cell_type": "code",
   "source": [
    "def processing_date(dates_in_row):\n",
    "    return pd.to_datetime(dates_in_row)"
   ],
   "id": "6859a1be4a0547a8",
   "outputs": [],
   "execution_count": 74
  },
  {
   "metadata": {
    "ExecuteTime": {
     "end_time": "2025-03-09T16:43:35.132329Z",
     "start_time": "2025-03-09T16:43:35.125250Z"
    }
   },
   "cell_type": "code",
   "source": [
    "def ab_test_proc(value):\n",
    "    if value != True:\n",
    "        return False\n",
    "    else:\n",
    "        return True"
   ],
   "id": "415b153ae47c7b20",
   "outputs": [],
   "execution_count": 75
  },
  {
   "metadata": {
    "ExecuteTime": {
     "end_time": "2025-03-09T16:43:35.144001Z",
     "start_time": "2025-03-09T16:43:35.135505Z"
    }
   },
   "cell_type": "code",
   "source": [
    "def preproc_campaings(row):\n",
    "\n",
    "    mongo_row = {\n",
    "        'id': row['id'],\n",
    "        'campaign_type': row['campaign_type'],\n",
    "        'channel': row['channel'],\n",
    "        'topic': row['topic'],\n",
    "        'started_at': processing_date(row['started_at']),\n",
    "        'finished_at': processing_date(row['finished_at']),\n",
    "        'total_count': processing_nan(row['total_count']),\n",
    "        'ab_test': ab_test_proc(row['ab_test']),\n",
    "        'warmup_mode': row['warmup_mode'],\n",
    "        'subject' : {\n",
    "            'length' : processing_nan(row['subject_length']),\n",
    "            'with_personalization' : row['subject_with_personalization'],\n",
    "            'with_deadline' : row['subject_with_deadline'],\n",
    "            'with_emoji': row['subject_with_emoji'],\n",
    "            'with_bonuses': row['subject_with_bonuses'],\n",
    "            'with_discount' : row['subject_with_discount'],\n",
    "            'with_saleout' : row['subject_with_saleout'],\n",
    "        },\n",
    "        'is_test': row['is_test'],\n",
    "        'position': processing_nan(row['position']),\n",
    "    }    \n",
    "\n",
    "    \n",
    "    return mongo_row\n",
    "    "
   ],
   "id": "3bcbb85232c3d911",
   "outputs": [],
   "execution_count": 76
  },
  {
   "metadata": {
    "ExecuteTime": {
     "end_time": "2025-03-09T16:43:35.154231Z",
     "start_time": "2025-03-09T16:43:35.146752Z"
    }
   },
   "cell_type": "code",
   "source": [
    "def preproc_event(row):\n",
    "\n",
    "    mongo_row = {\n",
    "        'event_time': processing_date(row['event_time']),\n",
    "        'event_type': row['event_type'],\n",
    "        'product':{\n",
    "            'product_id': int(row['product_id']),\n",
    "            'category_id': int(row['category_id']),\n",
    "            'category_code': row['category_code'],\n",
    "            'brand': row['brand'],\n",
    "            'price': processing_nan(row['price']),\n",
    "        },\n",
    "        'user':{\n",
    "            'user_id': int(row['user_id']),\n",
    "            'user_session': row['user_session'],\n",
    "        }\n",
    "    }\n",
    "    \n",
    "    return mongo_row  "
   ],
   "id": "bfd5b51a990fa05e",
   "outputs": [],
   "execution_count": 77
  },
  {
   "metadata": {
    "ExecuteTime": {
     "end_time": "2025-03-09T16:43:35.165470Z",
     "start_time": "2025-03-09T16:43:35.157491Z"
    }
   },
   "cell_type": "code",
   "source": [
    "def preproc_friends(row):\n",
    "    \n",
    "    mongo_row = {\n",
    "        'friend1' : int(row['friend1']),\n",
    "        'friend2' : int(row['friend2']),\n",
    "    }\n",
    "        \n",
    "    return mongo_row\n",
    "        "
   ],
   "id": "3810d2412f14b514",
   "outputs": [],
   "execution_count": 78
  },
  {
   "metadata": {
    "ExecuteTime": {
     "end_time": "2025-03-09T16:43:35.178181Z",
     "start_time": "2025-03-09T16:43:35.171257Z"
    }
   },
   "cell_type": "code",
   "source": [
    "def preproc_client_first_purchase_date(row):\n",
    "\n",
    "    mongo_row = {\n",
    "        'client_id' : int(row['client_id']),\n",
    "        'first_purchase_date' : processing_date(row['first_purchase_date']),\n",
    "        'user_id' : int(row['user_id']),\n",
    "        'user_device_id': int(row['user_device_id']),\n",
    "    }\n",
    "    \n",
    "    return mongo_row"
   ],
   "id": "b287a28bfc74e149",
   "outputs": [],
   "execution_count": 79
  },
  {
   "metadata": {
    "ExecuteTime": {
     "end_time": "2025-03-09T16:43:35.191118Z",
     "start_time": "2025-03-09T16:43:35.182381Z"
    }
   },
   "cell_type": "code",
   "source": [
    "def improve_t_f(value):\n",
    "    if value == 't':\n",
    "        return True\n",
    "    else:\n",
    "        return False"
   ],
   "id": "10bdb8e01aa545b1",
   "outputs": [],
   "execution_count": 80
  },
  {
   "metadata": {
    "ExecuteTime": {
     "end_time": "2025-03-09T16:43:35.215434Z",
     "start_time": "2025-03-09T16:43:35.194635Z"
    }
   },
   "cell_type": "code",
   "source": [
    "\n",
    "def preproc_messages(row):\n",
    "        \n",
    "    return {\n",
    "        'message_id': row['message_id'],\n",
    "        'campaign_id' : int(row['campaign_id']),\n",
    "        'message_type': row['message_type'],\n",
    "        'client_id' : int(row['client_id']),\n",
    "        'channel' : row['channel'],\n",
    "        'platform' : row['platform'],\n",
    "        'email_provider' : row['email_provider'],\n",
    "        'stream' : row['stream'],\n",
    "        'sent_at': processing_date(row['sent_at']),\n",
    "        'status':{\n",
    "            'is_opened' : improve_t_f(row['is_opened']),\n",
    "            'opened_at' : {\n",
    "                'first' : processing_date(row['opened_first_time_at']),\n",
    "                'last' : processing_date(row['opened_last_time_at']),\n",
    "            },\n",
    "            'is_clicked':  improve_t_f(row['is_clicked']),\n",
    "            'clicked_at' : {\n",
    "                'first' : processing_date(row['clicked_first_time_at']),\n",
    "                'last' : processing_date(row['clicked_last_time_at']),\n",
    "            },\n",
    "            'is_unsubscribed': improve_t_f(row['is_unsubscribed']),\n",
    "            'unsubscribed_at': row['is_unsubscribed'],\n",
    "            'is_hard_bounced': improve_t_f(row['is_hard_bounced']),\n",
    "            'hard_bounced_at': row['is_hard_bounced'],\n",
    "            'is_soft_bounced': improve_t_f(row['is_soft_bounced']),\n",
    "            'soft_bounced_at': row['is_soft_bounced'],\n",
    "            'is_complained' : improve_t_f(row['is_complained']),\n",
    "            'complained_at' : row['is_complained'],\n",
    "            'is_blocked': improve_t_f(row['is_blocked']),\n",
    "            'blocked_at': row['is_blocked'],\n",
    "            'is_purchased': improve_t_f(row['is_purchased']),\n",
    "            'purchased_at' : processing_date(row['purchased_at']),\n",
    "        },\n",
    "        'created_at': processing_date(row['created_at']),\n",
    "        'updated_at': processing_date(row['updated_at']),\n",
    "        'user_device_id' : int(row['user_device_id']),\n",
    "        'user_id': int(row['user_id']),\n",
    "        \n",
    "    }\n"
   ],
   "id": "8c05cd4d5f8ddf18",
   "outputs": [],
   "execution_count": 81
  },
  {
   "metadata": {
    "ExecuteTime": {
     "end_time": "2025-03-09T16:43:37.865597Z",
     "start_time": "2025-03-09T16:43:35.219248Z"
    }
   },
   "cell_type": "code",
   "source": "campaigns_json_preproc = campaigns.swifter.apply(preproc_campaings, axis=1)",
   "id": "2fabe181811420ad",
   "outputs": [
    {
     "data": {
      "text/plain": [
       "Pandas Apply:   0%|          | 0/1907 [00:00<?, ?it/s]"
      ],
      "application/vnd.jupyter.widget-view+json": {
       "version_major": 2,
       "version_minor": 0,
       "model_id": "fe34eff92b414434b30e6379a5107ea9"
      }
     },
     "metadata": {},
     "output_type": "display_data"
    }
   ],
   "execution_count": 82
  },
  {
   "metadata": {
    "ExecuteTime": {
     "end_time": "2025-03-09T16:55:15.156426Z",
     "start_time": "2025-03-09T16:43:37.867984Z"
    }
   },
   "cell_type": "code",
   "source": "events_json_preproc = events.swifter.apply(preproc_event, axis=1)",
   "id": "ef1a12d1e875d4e7",
   "outputs": [
    {
     "data": {
      "text/plain": [
       "Pandas Apply:   0%|          | 0/1287270 [00:00<?, ?it/s]"
      ],
      "application/vnd.jupyter.widget-view+json": {
       "version_major": 2,
       "version_minor": 0,
       "model_id": "67a059f403784e1ca9dd4ff8a075fbf8"
      }
     },
     "metadata": {},
     "output_type": "display_data"
    }
   ],
   "execution_count": 83
  },
  {
   "metadata": {
    "ExecuteTime": {
     "end_time": "2025-03-09T16:55:32.900382Z",
     "start_time": "2025-03-09T16:55:15.161503Z"
    }
   },
   "cell_type": "code",
   "source": "friends_json_preproc = friends.swifter.apply(preproc_friends, axis=1)",
   "id": "4cb60be849d01797",
   "outputs": [
    {
     "data": {
      "text/plain": [
       "Dask Apply:   0%|          | 0/17 [00:00<?, ?it/s]"
      ],
      "application/vnd.jupyter.widget-view+json": {
       "version_major": 2,
       "version_minor": 0,
       "model_id": "6a5f380758ea49eaa88c63387918dd6b"
      }
     },
     "metadata": {},
     "output_type": "display_data"
    }
   ],
   "execution_count": 84
  },
  {
   "metadata": {
    "ExecuteTime": {
     "end_time": "2025-03-09T16:57:21.579871Z",
     "start_time": "2025-03-09T16:55:32.903368Z"
    }
   },
   "cell_type": "code",
   "source": "client_first_purchase_date_json_preproc = client_first_purchase_date.swifter.apply(preproc_client_first_purchase_date, axis=1)\n",
   "id": "92ac918510785eb8",
   "outputs": [
    {
     "data": {
      "text/plain": [
       "Pandas Apply:   0%|          | 0/174646 [00:00<?, ?it/s]"
      ],
      "application/vnd.jupyter.widget-view+json": {
       "version_major": 2,
       "version_minor": 0,
       "model_id": "2606cd8a7a514dfaa6c109540f98a916"
      }
     },
     "metadata": {},
     "output_type": "display_data"
    }
   ],
   "execution_count": 85
  },
  {
   "metadata": {},
   "cell_type": "markdown",
   "source": "### Load to JSON\n",
   "id": "ff505f2e528a908b"
  },
  {
   "metadata": {
    "ExecuteTime": {
     "end_time": "2025-03-09T17:00:51.151Z",
     "start_time": "2025-03-09T17:00:51.143152Z"
    }
   },
   "cell_type": "code",
   "source": "path = '../data/cleaned_MongoDB/'\n",
   "id": "598256d18e22982",
   "outputs": [],
   "execution_count": 86
  },
  {
   "metadata": {
    "ExecuteTime": {
     "end_time": "2025-03-09T17:01:10.427701Z",
     "start_time": "2025-03-09T17:00:53.835371Z"
    }
   },
   "cell_type": "code",
   "source": [
    "campaigns_json_preproc.reset_index().to_json(path + 'campaigns.json', orient='records')\n",
    "events_json_preproc.reset_index().to_json(path + 'events.json', orient='records')\n",
    "friends_json_preproc.reset_index().to_json(path + 'friends.json', orient='records')\n",
    "client_first_purchase_date_json_preproc.reset_index().to_json(path + 'cfp_date.json', orient='records')"
   ],
   "id": "348bc649b3374f83",
   "outputs": [],
   "execution_count": 87
  },
  {
   "metadata": {
    "ExecuteTime": {
     "end_time": "2025-03-09T17:02:29.229660Z",
     "start_time": "2025-03-09T17:02:27.521043Z"
    }
   },
   "cell_type": "code",
   "source": [
    "del(campaigns_json_preproc)\n",
    "del(events_json_preproc)\n",
    "del(friends_json_preproc)\n",
    "del(client_first_purchase_date_json_preproc)"
   ],
   "id": "62f9ddfd664d4ce6",
   "outputs": [],
   "execution_count": 88
  },
  {
   "metadata": {
    "ExecuteTime": {
     "end_time": "2025-03-09T17:02:32.823368Z",
     "start_time": "2025-03-09T17:02:30.650278Z"
    }
   },
   "cell_type": "code",
   "source": "df_split = np.array_split(messages, 5)",
   "id": "8f3e6d1c3a1736fc",
   "outputs": [],
   "execution_count": 89
  },
  {
   "metadata": {
    "ExecuteTime": {
     "end_time": "2025-03-09T17:19:37.414465Z",
     "start_time": "2025-03-09T17:02:34.572973Z"
    }
   },
   "cell_type": "code",
   "source": [
    "i = 1\n",
    "for df in df_split:\n",
    "    messages_json_preproc = df.swifter.apply(preproc_messages, axis=1)\n",
    "    messages_json_preproc.reset_index().to_json(path+f'messages_date{i}.json', orient='records', date_format='iso')\n",
    "    i+=1"
   ],
   "id": "289c9a5c41efa226",
   "outputs": [
    {
     "data": {
      "text/plain": [
       "Pandas Apply:   0%|          | 0/598770 [00:00<?, ?it/s]"
      ],
      "application/vnd.jupyter.widget-view+json": {
       "version_major": 2,
       "version_minor": 0,
       "model_id": "5e6dc7fa7d47418c96880c9d4649a489"
      }
     },
     "metadata": {},
     "output_type": "display_data"
    },
    {
     "name": "stderr",
     "output_type": "stream",
     "text": [
      "Exception ignored in: <bound method IPythonKernel._clean_thread_parent_frames of <ipykernel.ipkernel.IPythonKernel object at 0x0000025226A55E80>>\n",
      "Traceback (most recent call last):\n",
      "  File \"C:\\Users\\nikit\\PycharmProjects\\IU\\.venv\\Lib\\site-packages\\ipykernel\\ipkernel.py\", line 790, in _clean_thread_parent_frames\n",
      "    active_threads = {thread.ident for thread in threading.enumerate()}\n",
      "  File \"C:\\Users\\nikit\\AppData\\Local\\Programs\\Python\\Python313\\Lib\\threading.py\", line 1477, in enumerate\n",
      "    def enumerate():\n",
      "KeyboardInterrupt: \n"
     ]
    },
    {
     "ename": "KeyboardInterrupt",
     "evalue": "",
     "output_type": "error",
     "traceback": [
      "\u001B[1;31m---------------------------------------------------------------------------\u001B[0m",
      "\u001B[1;31mTypeError\u001B[0m                                 Traceback (most recent call last)",
      "File \u001B[1;32m~\\PycharmProjects\\IU\\.venv\\Lib\\site-packages\\swifter\\swifter.py:419\u001B[0m, in \u001B[0;36mDataFrameAccessor.apply\u001B[1;34m(self, func, axis, raw, result_type, args, **kwds)\u001B[0m\n\u001B[0;32m    418\u001B[0m \u001B[38;5;28;01mwith\u001B[39;00m suppress_stdout_stderr_logging():\n\u001B[1;32m--> 419\u001B[0m     tmp_df \u001B[38;5;241m=\u001B[39m \u001B[43mfunc\u001B[49m\u001B[43m(\u001B[49m\u001B[43msample\u001B[49m\u001B[43m,\u001B[49m\u001B[43m \u001B[49m\u001B[38;5;241;43m*\u001B[39;49m\u001B[43margs\u001B[49m\u001B[43m,\u001B[49m\u001B[43m \u001B[49m\u001B[38;5;241;43m*\u001B[39;49m\u001B[38;5;241;43m*\u001B[39;49m\u001B[43mkwds\u001B[49m\u001B[43m)\u001B[49m\n\u001B[0;32m    420\u001B[0m     sample_df \u001B[38;5;241m=\u001B[39m sample\u001B[38;5;241m.\u001B[39mapply(func, axis\u001B[38;5;241m=\u001B[39maxis, raw\u001B[38;5;241m=\u001B[39mraw, result_type\u001B[38;5;241m=\u001B[39mresult_type, args\u001B[38;5;241m=\u001B[39margs, \u001B[38;5;241m*\u001B[39m\u001B[38;5;241m*\u001B[39mkwds)\n",
      "Cell \u001B[1;32mIn[81], line 5\u001B[0m, in \u001B[0;36mpreproc_messages\u001B[1;34m(row)\u001B[0m\n\u001B[0;32m      1\u001B[0m \u001B[38;5;28;01mdef\u001B[39;00m\u001B[38;5;250m \u001B[39m\u001B[38;5;21mpreproc_messages\u001B[39m(row):\n\u001B[0;32m      3\u001B[0m     \u001B[38;5;28;01mreturn\u001B[39;00m {\n\u001B[0;32m      4\u001B[0m         \u001B[38;5;124m'\u001B[39m\u001B[38;5;124mmessage_id\u001B[39m\u001B[38;5;124m'\u001B[39m: row[\u001B[38;5;124m'\u001B[39m\u001B[38;5;124mmessage_id\u001B[39m\u001B[38;5;124m'\u001B[39m],\n\u001B[1;32m----> 5\u001B[0m         \u001B[38;5;124m'\u001B[39m\u001B[38;5;124mcampaign_id\u001B[39m\u001B[38;5;124m'\u001B[39m : \u001B[38;5;28;43mint\u001B[39;49m\u001B[43m(\u001B[49m\u001B[43mrow\u001B[49m\u001B[43m[\u001B[49m\u001B[38;5;124;43m'\u001B[39;49m\u001B[38;5;124;43mcampaign_id\u001B[39;49m\u001B[38;5;124;43m'\u001B[39;49m\u001B[43m]\u001B[49m\u001B[43m)\u001B[49m,\n\u001B[0;32m      6\u001B[0m         \u001B[38;5;124m'\u001B[39m\u001B[38;5;124mmessage_type\u001B[39m\u001B[38;5;124m'\u001B[39m: row[\u001B[38;5;124m'\u001B[39m\u001B[38;5;124mmessage_type\u001B[39m\u001B[38;5;124m'\u001B[39m],\n\u001B[0;32m      7\u001B[0m         \u001B[38;5;124m'\u001B[39m\u001B[38;5;124mclient_id\u001B[39m\u001B[38;5;124m'\u001B[39m : \u001B[38;5;28mint\u001B[39m(row[\u001B[38;5;124m'\u001B[39m\u001B[38;5;124mclient_id\u001B[39m\u001B[38;5;124m'\u001B[39m]),\n\u001B[0;32m      8\u001B[0m         \u001B[38;5;124m'\u001B[39m\u001B[38;5;124mchannel\u001B[39m\u001B[38;5;124m'\u001B[39m : row[\u001B[38;5;124m'\u001B[39m\u001B[38;5;124mchannel\u001B[39m\u001B[38;5;124m'\u001B[39m],\n\u001B[0;32m      9\u001B[0m         \u001B[38;5;124m'\u001B[39m\u001B[38;5;124mplatform\u001B[39m\u001B[38;5;124m'\u001B[39m : row[\u001B[38;5;124m'\u001B[39m\u001B[38;5;124mplatform\u001B[39m\u001B[38;5;124m'\u001B[39m],\n\u001B[0;32m     10\u001B[0m         \u001B[38;5;124m'\u001B[39m\u001B[38;5;124memail_provider\u001B[39m\u001B[38;5;124m'\u001B[39m : row[\u001B[38;5;124m'\u001B[39m\u001B[38;5;124memail_provider\u001B[39m\u001B[38;5;124m'\u001B[39m],\n\u001B[0;32m     11\u001B[0m         \u001B[38;5;124m'\u001B[39m\u001B[38;5;124mstream\u001B[39m\u001B[38;5;124m'\u001B[39m : row[\u001B[38;5;124m'\u001B[39m\u001B[38;5;124mstream\u001B[39m\u001B[38;5;124m'\u001B[39m],\n\u001B[0;32m     12\u001B[0m         \u001B[38;5;124m'\u001B[39m\u001B[38;5;124msent_at\u001B[39m\u001B[38;5;124m'\u001B[39m: processing_date(row[\u001B[38;5;124m'\u001B[39m\u001B[38;5;124msent_at\u001B[39m\u001B[38;5;124m'\u001B[39m]),\n\u001B[0;32m     13\u001B[0m         \u001B[38;5;124m'\u001B[39m\u001B[38;5;124mstatus\u001B[39m\u001B[38;5;124m'\u001B[39m:{\n\u001B[0;32m     14\u001B[0m             \u001B[38;5;124m'\u001B[39m\u001B[38;5;124mis_opened\u001B[39m\u001B[38;5;124m'\u001B[39m : improve_t_f(row[\u001B[38;5;124m'\u001B[39m\u001B[38;5;124mis_opened\u001B[39m\u001B[38;5;124m'\u001B[39m]),\n\u001B[0;32m     15\u001B[0m             \u001B[38;5;124m'\u001B[39m\u001B[38;5;124mopened_at\u001B[39m\u001B[38;5;124m'\u001B[39m : {\n\u001B[0;32m     16\u001B[0m                 \u001B[38;5;124m'\u001B[39m\u001B[38;5;124mfirst\u001B[39m\u001B[38;5;124m'\u001B[39m : processing_date(row[\u001B[38;5;124m'\u001B[39m\u001B[38;5;124mopened_first_time_at\u001B[39m\u001B[38;5;124m'\u001B[39m]),\n\u001B[0;32m     17\u001B[0m                 \u001B[38;5;124m'\u001B[39m\u001B[38;5;124mlast\u001B[39m\u001B[38;5;124m'\u001B[39m : processing_date(row[\u001B[38;5;124m'\u001B[39m\u001B[38;5;124mopened_last_time_at\u001B[39m\u001B[38;5;124m'\u001B[39m]),\n\u001B[0;32m     18\u001B[0m             },\n\u001B[0;32m     19\u001B[0m             \u001B[38;5;124m'\u001B[39m\u001B[38;5;124mis_clicked\u001B[39m\u001B[38;5;124m'\u001B[39m:  improve_t_f(row[\u001B[38;5;124m'\u001B[39m\u001B[38;5;124mis_clicked\u001B[39m\u001B[38;5;124m'\u001B[39m]),\n\u001B[0;32m     20\u001B[0m             \u001B[38;5;124m'\u001B[39m\u001B[38;5;124mclicked_at\u001B[39m\u001B[38;5;124m'\u001B[39m : {\n\u001B[0;32m     21\u001B[0m                 \u001B[38;5;124m'\u001B[39m\u001B[38;5;124mfirst\u001B[39m\u001B[38;5;124m'\u001B[39m : processing_date(row[\u001B[38;5;124m'\u001B[39m\u001B[38;5;124mclicked_first_time_at\u001B[39m\u001B[38;5;124m'\u001B[39m]),\n\u001B[0;32m     22\u001B[0m                 \u001B[38;5;124m'\u001B[39m\u001B[38;5;124mlast\u001B[39m\u001B[38;5;124m'\u001B[39m : processing_date(row[\u001B[38;5;124m'\u001B[39m\u001B[38;5;124mclicked_last_time_at\u001B[39m\u001B[38;5;124m'\u001B[39m]),\n\u001B[0;32m     23\u001B[0m             },\n\u001B[0;32m     24\u001B[0m             \u001B[38;5;124m'\u001B[39m\u001B[38;5;124mis_unsubscribed\u001B[39m\u001B[38;5;124m'\u001B[39m: improve_t_f(row[\u001B[38;5;124m'\u001B[39m\u001B[38;5;124mis_unsubscribed\u001B[39m\u001B[38;5;124m'\u001B[39m]),\n\u001B[0;32m     25\u001B[0m             \u001B[38;5;124m'\u001B[39m\u001B[38;5;124munsubscribed_at\u001B[39m\u001B[38;5;124m'\u001B[39m: row[\u001B[38;5;124m'\u001B[39m\u001B[38;5;124mis_unsubscribed\u001B[39m\u001B[38;5;124m'\u001B[39m],\n\u001B[0;32m     26\u001B[0m             \u001B[38;5;124m'\u001B[39m\u001B[38;5;124mis_hard_bounced\u001B[39m\u001B[38;5;124m'\u001B[39m: improve_t_f(row[\u001B[38;5;124m'\u001B[39m\u001B[38;5;124mis_hard_bounced\u001B[39m\u001B[38;5;124m'\u001B[39m]),\n\u001B[0;32m     27\u001B[0m             \u001B[38;5;124m'\u001B[39m\u001B[38;5;124mhard_bounced_at\u001B[39m\u001B[38;5;124m'\u001B[39m: row[\u001B[38;5;124m'\u001B[39m\u001B[38;5;124mis_hard_bounced\u001B[39m\u001B[38;5;124m'\u001B[39m],\n\u001B[0;32m     28\u001B[0m             \u001B[38;5;124m'\u001B[39m\u001B[38;5;124mis_soft_bounced\u001B[39m\u001B[38;5;124m'\u001B[39m: improve_t_f(row[\u001B[38;5;124m'\u001B[39m\u001B[38;5;124mis_soft_bounced\u001B[39m\u001B[38;5;124m'\u001B[39m]),\n\u001B[0;32m     29\u001B[0m             \u001B[38;5;124m'\u001B[39m\u001B[38;5;124msoft_bounced_at\u001B[39m\u001B[38;5;124m'\u001B[39m: row[\u001B[38;5;124m'\u001B[39m\u001B[38;5;124mis_soft_bounced\u001B[39m\u001B[38;5;124m'\u001B[39m],\n\u001B[0;32m     30\u001B[0m             \u001B[38;5;124m'\u001B[39m\u001B[38;5;124mis_complained\u001B[39m\u001B[38;5;124m'\u001B[39m : improve_t_f(row[\u001B[38;5;124m'\u001B[39m\u001B[38;5;124mis_complained\u001B[39m\u001B[38;5;124m'\u001B[39m]),\n\u001B[0;32m     31\u001B[0m             \u001B[38;5;124m'\u001B[39m\u001B[38;5;124mcomplained_at\u001B[39m\u001B[38;5;124m'\u001B[39m : row[\u001B[38;5;124m'\u001B[39m\u001B[38;5;124mis_complained\u001B[39m\u001B[38;5;124m'\u001B[39m],\n\u001B[0;32m     32\u001B[0m             \u001B[38;5;124m'\u001B[39m\u001B[38;5;124mis_blocked\u001B[39m\u001B[38;5;124m'\u001B[39m: improve_t_f(row[\u001B[38;5;124m'\u001B[39m\u001B[38;5;124mis_blocked\u001B[39m\u001B[38;5;124m'\u001B[39m]),\n\u001B[0;32m     33\u001B[0m             \u001B[38;5;124m'\u001B[39m\u001B[38;5;124mblocked_at\u001B[39m\u001B[38;5;124m'\u001B[39m: row[\u001B[38;5;124m'\u001B[39m\u001B[38;5;124mis_blocked\u001B[39m\u001B[38;5;124m'\u001B[39m],\n\u001B[0;32m     34\u001B[0m             \u001B[38;5;124m'\u001B[39m\u001B[38;5;124mis_purchased\u001B[39m\u001B[38;5;124m'\u001B[39m: improve_t_f(row[\u001B[38;5;124m'\u001B[39m\u001B[38;5;124mis_purchased\u001B[39m\u001B[38;5;124m'\u001B[39m]),\n\u001B[0;32m     35\u001B[0m             \u001B[38;5;124m'\u001B[39m\u001B[38;5;124mpurchased_at\u001B[39m\u001B[38;5;124m'\u001B[39m : processing_date(row[\u001B[38;5;124m'\u001B[39m\u001B[38;5;124mpurchased_at\u001B[39m\u001B[38;5;124m'\u001B[39m]),\n\u001B[0;32m     36\u001B[0m         },\n\u001B[0;32m     37\u001B[0m         \u001B[38;5;124m'\u001B[39m\u001B[38;5;124mcreated_at\u001B[39m\u001B[38;5;124m'\u001B[39m: processing_date(row[\u001B[38;5;124m'\u001B[39m\u001B[38;5;124mcreated_at\u001B[39m\u001B[38;5;124m'\u001B[39m]),\n\u001B[0;32m     38\u001B[0m         \u001B[38;5;124m'\u001B[39m\u001B[38;5;124mupdated_at\u001B[39m\u001B[38;5;124m'\u001B[39m: processing_date(row[\u001B[38;5;124m'\u001B[39m\u001B[38;5;124mupdated_at\u001B[39m\u001B[38;5;124m'\u001B[39m]),\n\u001B[0;32m     39\u001B[0m         \u001B[38;5;124m'\u001B[39m\u001B[38;5;124muser_device_id\u001B[39m\u001B[38;5;124m'\u001B[39m : \u001B[38;5;28mint\u001B[39m(row[\u001B[38;5;124m'\u001B[39m\u001B[38;5;124muser_device_id\u001B[39m\u001B[38;5;124m'\u001B[39m]),\n\u001B[0;32m     40\u001B[0m         \u001B[38;5;124m'\u001B[39m\u001B[38;5;124muser_id\u001B[39m\u001B[38;5;124m'\u001B[39m: \u001B[38;5;28mint\u001B[39m(row[\u001B[38;5;124m'\u001B[39m\u001B[38;5;124muser_id\u001B[39m\u001B[38;5;124m'\u001B[39m]),\n\u001B[0;32m     41\u001B[0m         \n\u001B[0;32m     42\u001B[0m     }\n",
      "File \u001B[1;32m~\\PycharmProjects\\IU\\.venv\\Lib\\site-packages\\pandas\\core\\series.py:248\u001B[0m, in \u001B[0;36m_coerce_method.<locals>.wrapper\u001B[1;34m(self)\u001B[0m\n\u001B[0;32m    247\u001B[0m     \u001B[38;5;28;01mreturn\u001B[39;00m converter(\u001B[38;5;28mself\u001B[39m\u001B[38;5;241m.\u001B[39miloc[\u001B[38;5;241m0\u001B[39m])\n\u001B[1;32m--> 248\u001B[0m \u001B[38;5;28;01mraise\u001B[39;00m \u001B[38;5;167;01mTypeError\u001B[39;00m(\u001B[38;5;124mf\u001B[39m\u001B[38;5;124m\"\u001B[39m\u001B[38;5;124mcannot convert the series to \u001B[39m\u001B[38;5;132;01m{\u001B[39;00mconverter\u001B[38;5;132;01m}\u001B[39;00m\u001B[38;5;124m\"\u001B[39m)\n",
      "\u001B[1;31mTypeError\u001B[0m: cannot convert the series to <class 'int'>",
      "\nDuring handling of the above exception, another exception occurred:\n",
      "\u001B[1;31mKeyboardInterrupt\u001B[0m                         Traceback (most recent call last)",
      "Cell \u001B[1;32mIn[90], line 3\u001B[0m\n\u001B[0;32m      1\u001B[0m i \u001B[38;5;241m=\u001B[39m \u001B[38;5;241m1\u001B[39m\n\u001B[0;32m      2\u001B[0m \u001B[38;5;28;01mfor\u001B[39;00m df \u001B[38;5;129;01min\u001B[39;00m df_split:\n\u001B[1;32m----> 3\u001B[0m     messages_json_preproc \u001B[38;5;241m=\u001B[39m \u001B[43mdf\u001B[49m\u001B[38;5;241;43m.\u001B[39;49m\u001B[43mswifter\u001B[49m\u001B[38;5;241;43m.\u001B[39;49m\u001B[43mapply\u001B[49m\u001B[43m(\u001B[49m\u001B[43mpreproc_messages\u001B[49m\u001B[43m,\u001B[49m\u001B[43m \u001B[49m\u001B[43maxis\u001B[49m\u001B[38;5;241;43m=\u001B[39;49m\u001B[38;5;241;43m1\u001B[39;49m\u001B[43m)\u001B[49m\n\u001B[0;32m      4\u001B[0m     messages_json_preproc\u001B[38;5;241m.\u001B[39mreset_index()\u001B[38;5;241m.\u001B[39mto_json(path\u001B[38;5;241m+\u001B[39m\u001B[38;5;124mf\u001B[39m\u001B[38;5;124m'\u001B[39m\u001B[38;5;124mmessages_date\u001B[39m\u001B[38;5;132;01m{\u001B[39;00mi\u001B[38;5;132;01m}\u001B[39;00m\u001B[38;5;124m.json\u001B[39m\u001B[38;5;124m'\u001B[39m, orient\u001B[38;5;241m=\u001B[39m\u001B[38;5;124m'\u001B[39m\u001B[38;5;124mrecords\u001B[39m\u001B[38;5;124m'\u001B[39m, date_format\u001B[38;5;241m=\u001B[39m\u001B[38;5;124m'\u001B[39m\u001B[38;5;124miso\u001B[39m\u001B[38;5;124m'\u001B[39m)\n\u001B[0;32m      5\u001B[0m     i\u001B[38;5;241m+\u001B[39m\u001B[38;5;241m=\u001B[39m\u001B[38;5;241m1\u001B[39m\n",
      "File \u001B[1;32m~\\PycharmProjects\\IU\\.venv\\Lib\\site-packages\\swifter\\swifter.py:437\u001B[0m, in \u001B[0;36mDataFrameAccessor.apply\u001B[1;34m(self, func, axis, raw, result_type, args, **kwds)\u001B[0m\n\u001B[0;32m    435\u001B[0m     \u001B[38;5;28;01mreturn\u001B[39;00m \u001B[38;5;28mself\u001B[39m\u001B[38;5;241m.\u001B[39m_parallel_apply(func, axis, raw, result_type, \u001B[38;5;241m*\u001B[39margs, \u001B[38;5;241m*\u001B[39m\u001B[38;5;241m*\u001B[39mkwds)\n\u001B[0;32m    436\u001B[0m \u001B[38;5;28;01melse\u001B[39;00m:  \u001B[38;5;66;03m# use pandas\u001B[39;00m\n\u001B[1;32m--> 437\u001B[0m     \u001B[38;5;28;01mreturn\u001B[39;00m \u001B[38;5;28;43mself\u001B[39;49m\u001B[38;5;241;43m.\u001B[39;49m\u001B[43m_pandas_apply\u001B[49m\u001B[43m(\u001B[49m\u001B[38;5;28;43mself\u001B[39;49m\u001B[38;5;241;43m.\u001B[39;49m\u001B[43m_obj\u001B[49m\u001B[43m,\u001B[49m\u001B[43m \u001B[49m\u001B[43mfunc\u001B[49m\u001B[43m,\u001B[49m\u001B[43m \u001B[49m\u001B[43maxis\u001B[49m\u001B[43m,\u001B[49m\u001B[43m \u001B[49m\u001B[43mraw\u001B[49m\u001B[43m,\u001B[49m\u001B[43m \u001B[49m\u001B[43mresult_type\u001B[49m\u001B[43m,\u001B[49m\u001B[43m \u001B[49m\u001B[38;5;241;43m*\u001B[39;49m\u001B[43margs\u001B[49m\u001B[43m,\u001B[49m\u001B[43m \u001B[49m\u001B[38;5;241;43m*\u001B[39;49m\u001B[38;5;241;43m*\u001B[39;49m\u001B[43mkwds\u001B[49m\u001B[43m)\u001B[49m\n",
      "File \u001B[1;32m~\\PycharmProjects\\IU\\.venv\\Lib\\site-packages\\swifter\\swifter.py:350\u001B[0m, in \u001B[0;36mDataFrameAccessor._pandas_apply\u001B[1;34m(self, df, func, axis, raw, result_type, *args, **kwds)\u001B[0m\n\u001B[0;32m    347\u001B[0m \u001B[38;5;28;01melse\u001B[39;00m:\n\u001B[0;32m    348\u001B[0m     apply_func \u001B[38;5;241m=\u001B[39m df\u001B[38;5;241m.\u001B[39mapply\n\u001B[1;32m--> 350\u001B[0m \u001B[38;5;28;01mreturn\u001B[39;00m \u001B[43mapply_func\u001B[49m\u001B[43m(\u001B[49m\u001B[43mfunc\u001B[49m\u001B[43m,\u001B[49m\u001B[43m \u001B[49m\u001B[43maxis\u001B[49m\u001B[38;5;241;43m=\u001B[39;49m\u001B[43maxis\u001B[49m\u001B[43m,\u001B[49m\u001B[43m \u001B[49m\u001B[43mraw\u001B[49m\u001B[38;5;241;43m=\u001B[39;49m\u001B[43mraw\u001B[49m\u001B[43m,\u001B[49m\u001B[43m \u001B[49m\u001B[43mresult_type\u001B[49m\u001B[38;5;241;43m=\u001B[39;49m\u001B[43mresult_type\u001B[49m\u001B[43m,\u001B[49m\u001B[43m \u001B[49m\u001B[43margs\u001B[49m\u001B[38;5;241;43m=\u001B[39;49m\u001B[43margs\u001B[49m\u001B[43m,\u001B[49m\u001B[43m \u001B[49m\u001B[38;5;241;43m*\u001B[39;49m\u001B[38;5;241;43m*\u001B[39;49m\u001B[43mkwds\u001B[49m\u001B[43m)\u001B[49m\n",
      "File \u001B[1;32m~\\PycharmProjects\\IU\\.venv\\Lib\\site-packages\\tqdm\\std.py:917\u001B[0m, in \u001B[0;36mtqdm.pandas.<locals>.inner_generator.<locals>.inner\u001B[1;34m(df, func, *args, **kwargs)\u001B[0m\n\u001B[0;32m    914\u001B[0m \u001B[38;5;66;03m# Apply the provided function (in **kwargs)\u001B[39;00m\n\u001B[0;32m    915\u001B[0m \u001B[38;5;66;03m# on the df using our wrapper (which provides bar updating)\u001B[39;00m\n\u001B[0;32m    916\u001B[0m \u001B[38;5;28;01mtry\u001B[39;00m:\n\u001B[1;32m--> 917\u001B[0m     \u001B[38;5;28;01mreturn\u001B[39;00m \u001B[38;5;28;43mgetattr\u001B[39;49m\u001B[43m(\u001B[49m\u001B[43mdf\u001B[49m\u001B[43m,\u001B[49m\u001B[43m \u001B[49m\u001B[43mdf_function\u001B[49m\u001B[43m)\u001B[49m\u001B[43m(\u001B[49m\u001B[43mwrapper\u001B[49m\u001B[43m,\u001B[49m\u001B[43m \u001B[49m\u001B[38;5;241;43m*\u001B[39;49m\u001B[38;5;241;43m*\u001B[39;49m\u001B[43mkwargs\u001B[49m\u001B[43m)\u001B[49m\n\u001B[0;32m    918\u001B[0m \u001B[38;5;28;01mfinally\u001B[39;00m:\n\u001B[0;32m    919\u001B[0m     t\u001B[38;5;241m.\u001B[39mclose()\n",
      "File \u001B[1;32m~\\PycharmProjects\\IU\\.venv\\Lib\\site-packages\\pandas\\core\\frame.py:10374\u001B[0m, in \u001B[0;36mDataFrame.apply\u001B[1;34m(self, func, axis, raw, result_type, args, by_row, engine, engine_kwargs, **kwargs)\u001B[0m\n\u001B[0;32m  10360\u001B[0m \u001B[38;5;28;01mfrom\u001B[39;00m\u001B[38;5;250m \u001B[39m\u001B[38;5;21;01mpandas\u001B[39;00m\u001B[38;5;21;01m.\u001B[39;00m\u001B[38;5;21;01mcore\u001B[39;00m\u001B[38;5;21;01m.\u001B[39;00m\u001B[38;5;21;01mapply\u001B[39;00m\u001B[38;5;250m \u001B[39m\u001B[38;5;28;01mimport\u001B[39;00m frame_apply\n\u001B[0;32m  10362\u001B[0m op \u001B[38;5;241m=\u001B[39m frame_apply(\n\u001B[0;32m  10363\u001B[0m     \u001B[38;5;28mself\u001B[39m,\n\u001B[0;32m  10364\u001B[0m     func\u001B[38;5;241m=\u001B[39mfunc,\n\u001B[1;32m   (...)\u001B[0m\n\u001B[0;32m  10372\u001B[0m     kwargs\u001B[38;5;241m=\u001B[39mkwargs,\n\u001B[0;32m  10373\u001B[0m )\n\u001B[1;32m> 10374\u001B[0m \u001B[38;5;28;01mreturn\u001B[39;00m \u001B[43mop\u001B[49m\u001B[38;5;241;43m.\u001B[39;49m\u001B[43mapply\u001B[49m\u001B[43m(\u001B[49m\u001B[43m)\u001B[49m\u001B[38;5;241m.\u001B[39m__finalize__(\u001B[38;5;28mself\u001B[39m, method\u001B[38;5;241m=\u001B[39m\u001B[38;5;124m\"\u001B[39m\u001B[38;5;124mapply\u001B[39m\u001B[38;5;124m\"\u001B[39m)\n",
      "File \u001B[1;32m~\\PycharmProjects\\IU\\.venv\\Lib\\site-packages\\pandas\\core\\apply.py:916\u001B[0m, in \u001B[0;36mFrameApply.apply\u001B[1;34m(self)\u001B[0m\n\u001B[0;32m    913\u001B[0m \u001B[38;5;28;01melif\u001B[39;00m \u001B[38;5;28mself\u001B[39m\u001B[38;5;241m.\u001B[39mraw:\n\u001B[0;32m    914\u001B[0m     \u001B[38;5;28;01mreturn\u001B[39;00m \u001B[38;5;28mself\u001B[39m\u001B[38;5;241m.\u001B[39mapply_raw(engine\u001B[38;5;241m=\u001B[39m\u001B[38;5;28mself\u001B[39m\u001B[38;5;241m.\u001B[39mengine, engine_kwargs\u001B[38;5;241m=\u001B[39m\u001B[38;5;28mself\u001B[39m\u001B[38;5;241m.\u001B[39mengine_kwargs)\n\u001B[1;32m--> 916\u001B[0m \u001B[38;5;28;01mreturn\u001B[39;00m \u001B[38;5;28;43mself\u001B[39;49m\u001B[38;5;241;43m.\u001B[39;49m\u001B[43mapply_standard\u001B[49m\u001B[43m(\u001B[49m\u001B[43m)\u001B[49m\n",
      "File \u001B[1;32m~\\PycharmProjects\\IU\\.venv\\Lib\\site-packages\\pandas\\core\\apply.py:1063\u001B[0m, in \u001B[0;36mFrameApply.apply_standard\u001B[1;34m(self)\u001B[0m\n\u001B[0;32m   1061\u001B[0m \u001B[38;5;28;01mdef\u001B[39;00m\u001B[38;5;250m \u001B[39m\u001B[38;5;21mapply_standard\u001B[39m(\u001B[38;5;28mself\u001B[39m):\n\u001B[0;32m   1062\u001B[0m     \u001B[38;5;28;01mif\u001B[39;00m \u001B[38;5;28mself\u001B[39m\u001B[38;5;241m.\u001B[39mengine \u001B[38;5;241m==\u001B[39m \u001B[38;5;124m\"\u001B[39m\u001B[38;5;124mpython\u001B[39m\u001B[38;5;124m\"\u001B[39m:\n\u001B[1;32m-> 1063\u001B[0m         results, res_index \u001B[38;5;241m=\u001B[39m \u001B[38;5;28;43mself\u001B[39;49m\u001B[38;5;241;43m.\u001B[39;49m\u001B[43mapply_series_generator\u001B[49m\u001B[43m(\u001B[49m\u001B[43m)\u001B[49m\n\u001B[0;32m   1064\u001B[0m     \u001B[38;5;28;01melse\u001B[39;00m:\n\u001B[0;32m   1065\u001B[0m         results, res_index \u001B[38;5;241m=\u001B[39m \u001B[38;5;28mself\u001B[39m\u001B[38;5;241m.\u001B[39mapply_series_numba()\n",
      "File \u001B[1;32m~\\PycharmProjects\\IU\\.venv\\Lib\\site-packages\\pandas\\core\\apply.py:1081\u001B[0m, in \u001B[0;36mFrameApply.apply_series_generator\u001B[1;34m(self)\u001B[0m\n\u001B[0;32m   1078\u001B[0m \u001B[38;5;28;01mwith\u001B[39;00m option_context(\u001B[38;5;124m\"\u001B[39m\u001B[38;5;124mmode.chained_assignment\u001B[39m\u001B[38;5;124m\"\u001B[39m, \u001B[38;5;28;01mNone\u001B[39;00m):\n\u001B[0;32m   1079\u001B[0m     \u001B[38;5;28;01mfor\u001B[39;00m i, v \u001B[38;5;129;01min\u001B[39;00m \u001B[38;5;28menumerate\u001B[39m(series_gen):\n\u001B[0;32m   1080\u001B[0m         \u001B[38;5;66;03m# ignore SettingWithCopy here in case the user mutates\u001B[39;00m\n\u001B[1;32m-> 1081\u001B[0m         results[i] \u001B[38;5;241m=\u001B[39m \u001B[38;5;28;43mself\u001B[39;49m\u001B[38;5;241;43m.\u001B[39;49m\u001B[43mfunc\u001B[49m\u001B[43m(\u001B[49m\u001B[43mv\u001B[49m\u001B[43m,\u001B[49m\u001B[43m \u001B[49m\u001B[38;5;241;43m*\u001B[39;49m\u001B[38;5;28;43mself\u001B[39;49m\u001B[38;5;241;43m.\u001B[39;49m\u001B[43margs\u001B[49m\u001B[43m,\u001B[49m\u001B[43m \u001B[49m\u001B[38;5;241;43m*\u001B[39;49m\u001B[38;5;241;43m*\u001B[39;49m\u001B[38;5;28;43mself\u001B[39;49m\u001B[38;5;241;43m.\u001B[39;49m\u001B[43mkwargs\u001B[49m\u001B[43m)\u001B[49m\n\u001B[0;32m   1082\u001B[0m         \u001B[38;5;28;01mif\u001B[39;00m \u001B[38;5;28misinstance\u001B[39m(results[i], ABCSeries):\n\u001B[0;32m   1083\u001B[0m             \u001B[38;5;66;03m# If we have a view on v, we need to make a copy because\u001B[39;00m\n\u001B[0;32m   1084\u001B[0m             \u001B[38;5;66;03m#  series_generator will swap out the underlying data\u001B[39;00m\n\u001B[0;32m   1085\u001B[0m             results[i] \u001B[38;5;241m=\u001B[39m results[i]\u001B[38;5;241m.\u001B[39mcopy(deep\u001B[38;5;241m=\u001B[39m\u001B[38;5;28;01mFalse\u001B[39;00m)\n",
      "File \u001B[1;32m~\\PycharmProjects\\IU\\.venv\\Lib\\site-packages\\tqdm\\std.py:912\u001B[0m, in \u001B[0;36mtqdm.pandas.<locals>.inner_generator.<locals>.inner.<locals>.wrapper\u001B[1;34m(*args, **kwargs)\u001B[0m\n\u001B[0;32m    906\u001B[0m \u001B[38;5;28;01mdef\u001B[39;00m\u001B[38;5;250m \u001B[39m\u001B[38;5;21mwrapper\u001B[39m(\u001B[38;5;241m*\u001B[39margs, \u001B[38;5;241m*\u001B[39m\u001B[38;5;241m*\u001B[39mkwargs):\n\u001B[0;32m    907\u001B[0m     \u001B[38;5;66;03m# update tbar correctly\u001B[39;00m\n\u001B[0;32m    908\u001B[0m     \u001B[38;5;66;03m# it seems `pandas apply` calls `func` twice\u001B[39;00m\n\u001B[0;32m    909\u001B[0m     \u001B[38;5;66;03m# on the first column/row to decide whether it can\u001B[39;00m\n\u001B[0;32m    910\u001B[0m     \u001B[38;5;66;03m# take a fast or slow code path; so stop when t.total==t.n\u001B[39;00m\n\u001B[0;32m    911\u001B[0m     t\u001B[38;5;241m.\u001B[39mupdate(n\u001B[38;5;241m=\u001B[39m\u001B[38;5;241m1\u001B[39m \u001B[38;5;28;01mif\u001B[39;00m \u001B[38;5;129;01mnot\u001B[39;00m t\u001B[38;5;241m.\u001B[39mtotal \u001B[38;5;129;01mor\u001B[39;00m t\u001B[38;5;241m.\u001B[39mn \u001B[38;5;241m<\u001B[39m t\u001B[38;5;241m.\u001B[39mtotal \u001B[38;5;28;01melse\u001B[39;00m \u001B[38;5;241m0\u001B[39m)\n\u001B[1;32m--> 912\u001B[0m     \u001B[38;5;28;01mreturn\u001B[39;00m \u001B[43mfunc\u001B[49m\u001B[43m(\u001B[49m\u001B[38;5;241;43m*\u001B[39;49m\u001B[43margs\u001B[49m\u001B[43m,\u001B[49m\u001B[43m \u001B[49m\u001B[38;5;241;43m*\u001B[39;49m\u001B[38;5;241;43m*\u001B[39;49m\u001B[43mkwargs\u001B[49m\u001B[43m)\u001B[49m\n",
      "Cell \u001B[1;32mIn[81], line 19\u001B[0m, in \u001B[0;36mpreproc_messages\u001B[1;34m(row)\u001B[0m\n\u001B[0;32m      1\u001B[0m \u001B[38;5;28;01mdef\u001B[39;00m\u001B[38;5;250m \u001B[39m\u001B[38;5;21mpreproc_messages\u001B[39m(row):\n\u001B[0;32m      3\u001B[0m     \u001B[38;5;28;01mreturn\u001B[39;00m {\n\u001B[0;32m      4\u001B[0m         \u001B[38;5;124m'\u001B[39m\u001B[38;5;124mmessage_id\u001B[39m\u001B[38;5;124m'\u001B[39m: row[\u001B[38;5;124m'\u001B[39m\u001B[38;5;124mmessage_id\u001B[39m\u001B[38;5;124m'\u001B[39m],\n\u001B[0;32m      5\u001B[0m         \u001B[38;5;124m'\u001B[39m\u001B[38;5;124mcampaign_id\u001B[39m\u001B[38;5;124m'\u001B[39m : \u001B[38;5;28mint\u001B[39m(row[\u001B[38;5;124m'\u001B[39m\u001B[38;5;124mcampaign_id\u001B[39m\u001B[38;5;124m'\u001B[39m]),\n\u001B[0;32m      6\u001B[0m         \u001B[38;5;124m'\u001B[39m\u001B[38;5;124mmessage_type\u001B[39m\u001B[38;5;124m'\u001B[39m: row[\u001B[38;5;124m'\u001B[39m\u001B[38;5;124mmessage_type\u001B[39m\u001B[38;5;124m'\u001B[39m],\n\u001B[0;32m      7\u001B[0m         \u001B[38;5;124m'\u001B[39m\u001B[38;5;124mclient_id\u001B[39m\u001B[38;5;124m'\u001B[39m : \u001B[38;5;28mint\u001B[39m(row[\u001B[38;5;124m'\u001B[39m\u001B[38;5;124mclient_id\u001B[39m\u001B[38;5;124m'\u001B[39m]),\n\u001B[0;32m      8\u001B[0m         \u001B[38;5;124m'\u001B[39m\u001B[38;5;124mchannel\u001B[39m\u001B[38;5;124m'\u001B[39m : row[\u001B[38;5;124m'\u001B[39m\u001B[38;5;124mchannel\u001B[39m\u001B[38;5;124m'\u001B[39m],\n\u001B[0;32m      9\u001B[0m         \u001B[38;5;124m'\u001B[39m\u001B[38;5;124mplatform\u001B[39m\u001B[38;5;124m'\u001B[39m : row[\u001B[38;5;124m'\u001B[39m\u001B[38;5;124mplatform\u001B[39m\u001B[38;5;124m'\u001B[39m],\n\u001B[0;32m     10\u001B[0m         \u001B[38;5;124m'\u001B[39m\u001B[38;5;124memail_provider\u001B[39m\u001B[38;5;124m'\u001B[39m : row[\u001B[38;5;124m'\u001B[39m\u001B[38;5;124memail_provider\u001B[39m\u001B[38;5;124m'\u001B[39m],\n\u001B[0;32m     11\u001B[0m         \u001B[38;5;124m'\u001B[39m\u001B[38;5;124mstream\u001B[39m\u001B[38;5;124m'\u001B[39m : row[\u001B[38;5;124m'\u001B[39m\u001B[38;5;124mstream\u001B[39m\u001B[38;5;124m'\u001B[39m],\n\u001B[0;32m     12\u001B[0m         \u001B[38;5;124m'\u001B[39m\u001B[38;5;124msent_at\u001B[39m\u001B[38;5;124m'\u001B[39m: processing_date(row[\u001B[38;5;124m'\u001B[39m\u001B[38;5;124msent_at\u001B[39m\u001B[38;5;124m'\u001B[39m]),\n\u001B[0;32m     13\u001B[0m         \u001B[38;5;124m'\u001B[39m\u001B[38;5;124mstatus\u001B[39m\u001B[38;5;124m'\u001B[39m:{\n\u001B[0;32m     14\u001B[0m             \u001B[38;5;124m'\u001B[39m\u001B[38;5;124mis_opened\u001B[39m\u001B[38;5;124m'\u001B[39m : improve_t_f(row[\u001B[38;5;124m'\u001B[39m\u001B[38;5;124mis_opened\u001B[39m\u001B[38;5;124m'\u001B[39m]),\n\u001B[0;32m     15\u001B[0m             \u001B[38;5;124m'\u001B[39m\u001B[38;5;124mopened_at\u001B[39m\u001B[38;5;124m'\u001B[39m : {\n\u001B[0;32m     16\u001B[0m                 \u001B[38;5;124m'\u001B[39m\u001B[38;5;124mfirst\u001B[39m\u001B[38;5;124m'\u001B[39m : processing_date(row[\u001B[38;5;124m'\u001B[39m\u001B[38;5;124mopened_first_time_at\u001B[39m\u001B[38;5;124m'\u001B[39m]),\n\u001B[0;32m     17\u001B[0m                 \u001B[38;5;124m'\u001B[39m\u001B[38;5;124mlast\u001B[39m\u001B[38;5;124m'\u001B[39m : processing_date(row[\u001B[38;5;124m'\u001B[39m\u001B[38;5;124mopened_last_time_at\u001B[39m\u001B[38;5;124m'\u001B[39m]),\n\u001B[0;32m     18\u001B[0m             },\n\u001B[1;32m---> 19\u001B[0m             \u001B[38;5;124m'\u001B[39m\u001B[38;5;124mis_clicked\u001B[39m\u001B[38;5;124m'\u001B[39m:  improve_t_f(\u001B[43mrow\u001B[49m\u001B[43m[\u001B[49m\u001B[38;5;124;43m'\u001B[39;49m\u001B[38;5;124;43mis_clicked\u001B[39;49m\u001B[38;5;124;43m'\u001B[39;49m\u001B[43m]\u001B[49m),\n\u001B[0;32m     20\u001B[0m             \u001B[38;5;124m'\u001B[39m\u001B[38;5;124mclicked_at\u001B[39m\u001B[38;5;124m'\u001B[39m : {\n\u001B[0;32m     21\u001B[0m                 \u001B[38;5;124m'\u001B[39m\u001B[38;5;124mfirst\u001B[39m\u001B[38;5;124m'\u001B[39m : processing_date(row[\u001B[38;5;124m'\u001B[39m\u001B[38;5;124mclicked_first_time_at\u001B[39m\u001B[38;5;124m'\u001B[39m]),\n\u001B[0;32m     22\u001B[0m                 \u001B[38;5;124m'\u001B[39m\u001B[38;5;124mlast\u001B[39m\u001B[38;5;124m'\u001B[39m : processing_date(row[\u001B[38;5;124m'\u001B[39m\u001B[38;5;124mclicked_last_time_at\u001B[39m\u001B[38;5;124m'\u001B[39m]),\n\u001B[0;32m     23\u001B[0m             },\n\u001B[0;32m     24\u001B[0m             \u001B[38;5;124m'\u001B[39m\u001B[38;5;124mis_unsubscribed\u001B[39m\u001B[38;5;124m'\u001B[39m: improve_t_f(row[\u001B[38;5;124m'\u001B[39m\u001B[38;5;124mis_unsubscribed\u001B[39m\u001B[38;5;124m'\u001B[39m]),\n\u001B[0;32m     25\u001B[0m             \u001B[38;5;124m'\u001B[39m\u001B[38;5;124munsubscribed_at\u001B[39m\u001B[38;5;124m'\u001B[39m: row[\u001B[38;5;124m'\u001B[39m\u001B[38;5;124mis_unsubscribed\u001B[39m\u001B[38;5;124m'\u001B[39m],\n\u001B[0;32m     26\u001B[0m             \u001B[38;5;124m'\u001B[39m\u001B[38;5;124mis_hard_bounced\u001B[39m\u001B[38;5;124m'\u001B[39m: improve_t_f(row[\u001B[38;5;124m'\u001B[39m\u001B[38;5;124mis_hard_bounced\u001B[39m\u001B[38;5;124m'\u001B[39m]),\n\u001B[0;32m     27\u001B[0m             \u001B[38;5;124m'\u001B[39m\u001B[38;5;124mhard_bounced_at\u001B[39m\u001B[38;5;124m'\u001B[39m: row[\u001B[38;5;124m'\u001B[39m\u001B[38;5;124mis_hard_bounced\u001B[39m\u001B[38;5;124m'\u001B[39m],\n\u001B[0;32m     28\u001B[0m             \u001B[38;5;124m'\u001B[39m\u001B[38;5;124mis_soft_bounced\u001B[39m\u001B[38;5;124m'\u001B[39m: improve_t_f(row[\u001B[38;5;124m'\u001B[39m\u001B[38;5;124mis_soft_bounced\u001B[39m\u001B[38;5;124m'\u001B[39m]),\n\u001B[0;32m     29\u001B[0m             \u001B[38;5;124m'\u001B[39m\u001B[38;5;124msoft_bounced_at\u001B[39m\u001B[38;5;124m'\u001B[39m: row[\u001B[38;5;124m'\u001B[39m\u001B[38;5;124mis_soft_bounced\u001B[39m\u001B[38;5;124m'\u001B[39m],\n\u001B[0;32m     30\u001B[0m             \u001B[38;5;124m'\u001B[39m\u001B[38;5;124mis_complained\u001B[39m\u001B[38;5;124m'\u001B[39m : improve_t_f(row[\u001B[38;5;124m'\u001B[39m\u001B[38;5;124mis_complained\u001B[39m\u001B[38;5;124m'\u001B[39m]),\n\u001B[0;32m     31\u001B[0m             \u001B[38;5;124m'\u001B[39m\u001B[38;5;124mcomplained_at\u001B[39m\u001B[38;5;124m'\u001B[39m : row[\u001B[38;5;124m'\u001B[39m\u001B[38;5;124mis_complained\u001B[39m\u001B[38;5;124m'\u001B[39m],\n\u001B[0;32m     32\u001B[0m             \u001B[38;5;124m'\u001B[39m\u001B[38;5;124mis_blocked\u001B[39m\u001B[38;5;124m'\u001B[39m: improve_t_f(row[\u001B[38;5;124m'\u001B[39m\u001B[38;5;124mis_blocked\u001B[39m\u001B[38;5;124m'\u001B[39m]),\n\u001B[0;32m     33\u001B[0m             \u001B[38;5;124m'\u001B[39m\u001B[38;5;124mblocked_at\u001B[39m\u001B[38;5;124m'\u001B[39m: row[\u001B[38;5;124m'\u001B[39m\u001B[38;5;124mis_blocked\u001B[39m\u001B[38;5;124m'\u001B[39m],\n\u001B[0;32m     34\u001B[0m             \u001B[38;5;124m'\u001B[39m\u001B[38;5;124mis_purchased\u001B[39m\u001B[38;5;124m'\u001B[39m: improve_t_f(row[\u001B[38;5;124m'\u001B[39m\u001B[38;5;124mis_purchased\u001B[39m\u001B[38;5;124m'\u001B[39m]),\n\u001B[0;32m     35\u001B[0m             \u001B[38;5;124m'\u001B[39m\u001B[38;5;124mpurchased_at\u001B[39m\u001B[38;5;124m'\u001B[39m : processing_date(row[\u001B[38;5;124m'\u001B[39m\u001B[38;5;124mpurchased_at\u001B[39m\u001B[38;5;124m'\u001B[39m]),\n\u001B[0;32m     36\u001B[0m         },\n\u001B[0;32m     37\u001B[0m         \u001B[38;5;124m'\u001B[39m\u001B[38;5;124mcreated_at\u001B[39m\u001B[38;5;124m'\u001B[39m: processing_date(row[\u001B[38;5;124m'\u001B[39m\u001B[38;5;124mcreated_at\u001B[39m\u001B[38;5;124m'\u001B[39m]),\n\u001B[0;32m     38\u001B[0m         \u001B[38;5;124m'\u001B[39m\u001B[38;5;124mupdated_at\u001B[39m\u001B[38;5;124m'\u001B[39m: processing_date(row[\u001B[38;5;124m'\u001B[39m\u001B[38;5;124mupdated_at\u001B[39m\u001B[38;5;124m'\u001B[39m]),\n\u001B[0;32m     39\u001B[0m         \u001B[38;5;124m'\u001B[39m\u001B[38;5;124muser_device_id\u001B[39m\u001B[38;5;124m'\u001B[39m : \u001B[38;5;28mint\u001B[39m(row[\u001B[38;5;124m'\u001B[39m\u001B[38;5;124muser_device_id\u001B[39m\u001B[38;5;124m'\u001B[39m]),\n\u001B[0;32m     40\u001B[0m         \u001B[38;5;124m'\u001B[39m\u001B[38;5;124muser_id\u001B[39m\u001B[38;5;124m'\u001B[39m: \u001B[38;5;28mint\u001B[39m(row[\u001B[38;5;124m'\u001B[39m\u001B[38;5;124muser_id\u001B[39m\u001B[38;5;124m'\u001B[39m]),\n\u001B[0;32m     41\u001B[0m         \n\u001B[0;32m     42\u001B[0m     }\n",
      "File \u001B[1;32m~\\PycharmProjects\\IU\\.venv\\Lib\\site-packages\\pandas\\core\\series.py:1121\u001B[0m, in \u001B[0;36mSeries.__getitem__\u001B[1;34m(self, key)\u001B[0m\n\u001B[0;32m   1118\u001B[0m     \u001B[38;5;28;01mreturn\u001B[39;00m \u001B[38;5;28mself\u001B[39m\u001B[38;5;241m.\u001B[39m_values[key]\n\u001B[0;32m   1120\u001B[0m \u001B[38;5;28;01melif\u001B[39;00m key_is_scalar:\n\u001B[1;32m-> 1121\u001B[0m     \u001B[38;5;28;01mreturn\u001B[39;00m \u001B[38;5;28;43mself\u001B[39;49m\u001B[38;5;241;43m.\u001B[39;49m\u001B[43m_get_value\u001B[49m\u001B[43m(\u001B[49m\u001B[43mkey\u001B[49m\u001B[43m)\u001B[49m\n\u001B[0;32m   1123\u001B[0m \u001B[38;5;66;03m# Convert generator to list before going through hashable part\u001B[39;00m\n\u001B[0;32m   1124\u001B[0m \u001B[38;5;66;03m# (We will iterate through the generator there to check for slices)\u001B[39;00m\n\u001B[0;32m   1125\u001B[0m \u001B[38;5;28;01mif\u001B[39;00m is_iterator(key):\n",
      "File \u001B[1;32m~\\PycharmProjects\\IU\\.venv\\Lib\\site-packages\\pandas\\core\\series.py:1239\u001B[0m, in \u001B[0;36mSeries._get_value\u001B[1;34m(self, label, takeable)\u001B[0m\n\u001B[0;32m   1236\u001B[0m \u001B[38;5;66;03m# Similar to Index.get_value, but we do not fall back to positional\u001B[39;00m\n\u001B[0;32m   1237\u001B[0m loc \u001B[38;5;241m=\u001B[39m \u001B[38;5;28mself\u001B[39m\u001B[38;5;241m.\u001B[39mindex\u001B[38;5;241m.\u001B[39mget_loc(label)\n\u001B[1;32m-> 1239\u001B[0m \u001B[38;5;28;01mif\u001B[39;00m \u001B[43mis_integer\u001B[49m\u001B[43m(\u001B[49m\u001B[43mloc\u001B[49m\u001B[43m)\u001B[49m:\n\u001B[0;32m   1240\u001B[0m     \u001B[38;5;28;01mreturn\u001B[39;00m \u001B[38;5;28mself\u001B[39m\u001B[38;5;241m.\u001B[39m_values[loc]\n\u001B[0;32m   1242\u001B[0m \u001B[38;5;28;01mif\u001B[39;00m \u001B[38;5;28misinstance\u001B[39m(\u001B[38;5;28mself\u001B[39m\u001B[38;5;241m.\u001B[39mindex, MultiIndex):\n",
      "\u001B[1;31mKeyboardInterrupt\u001B[0m: "
     ]
    }
   ],
   "execution_count": 90
  },
  {
   "metadata": {
    "ExecuteTime": {
     "end_time": "2025-03-09T17:21:58.344646Z",
     "start_time": "2025-03-09T17:21:58.340168Z"
    }
   },
   "cell_type": "code",
   "source": "",
   "id": "7d5a22632aa479a2",
   "outputs": [],
   "execution_count": 91
  },
  {
   "metadata": {
    "ExecuteTime": {
     "end_time": "2025-03-09T16:32:33.394476Z",
     "start_time": "2025-03-09T16:32:33.281133Z"
    }
   },
   "cell_type": "code",
   "source": [
    "\n",
    "names = ['campaigns.json', 'events.json', 'cfp_date.json', 'messages_date1.json', 'messages_date2.json', 'messages_date3.json', 'messages_date4.json', 'messages_date5.json']\n",
    "\n",
    "\n",
    "dates_col = ['first_purchase_date', 'event_time']\n",
    "\n",
    "for file_name in names:\n",
    "    with open(f'../data/cleaned_MongoDB/{file_name}', 'r+') as f:\n",
    "        data = json.load(f)\n",
    "        for val in data:\n",
    "            for key, value in val.items():\n",
    "                if (key.endswith('_at')) or (key in dates_col):\n",
    "                    try:\n",
    "                        data[key] = {\n",
    "                    \"$date\": datetime.datetime.strptime(data[key], \"%Y-%m-%d %H:%M:%S UTC\").strftime(\n",
    "                        \"%Y-%m-%dT%H:%M:%SZ\")}\n",
    "                    except ValueError:\n",
    "                        try:\n",
    "                    # Если формат не соответствует, пробуем другой формат, например ISO\n",
    "                            dt = datetime.datetime.fromisoformat(value)\n",
    "                        except ValueError:\n",
    "                            # Если не удается распознать формат, оставляем значение без изменений\n",
    "                            continue\n",
    "                    \n",
    "        json.dump(data, f)                \n",
    "        "
   ],
   "id": "9eb0ba6f8bd80cde",
   "outputs": [],
   "execution_count": 56
  },
  {
   "metadata": {},
   "cell_type": "markdown",
   "source": "",
   "id": "f71542f08e3038b4"
  },
  {
   "metadata": {
    "ExecuteTime": {
     "end_time": "2025-03-09T16:39:38.549639Z",
     "start_time": "2025-03-09T16:39:38.429029Z"
    }
   },
   "cell_type": "code",
   "source": [
    "\n",
    "for name in names:\n",
    "    with open(f'../data/cleaned_MongoDB/{name}', 'r', encoding='utf-8') as f:\n",
    "        text = f.read()\n",
    "    \n",
    "    text_fixed = re.sub(r'\\]\\s*\\[', ',', text)\n",
    "    \n",
    "    if not text_fixed.strip().startswith('['):\n",
    "        text_fixed = '[' + text_fixed\n",
    "    if not text_fixed.strip().endswith(']'):\n",
    "        text_fixed = text_fixed + ']'\n",
    "    \n",
    "    try:\n",
    "        data = json.loads(text_fixed)\n",
    "    except json.JSONDecodeError as e:\n",
    "        print(\"Ошибка декодирования JSON:\", e)\n",
    "        exit(1)\n",
    "    \n",
    "    unique_records = {}\n",
    "    for record in data:\n",
    "        if \"id\" in record:\n",
    "            key = record[\"id\"]\n",
    "        else:\n",
    "            key = json.dumps(record, sort_keys=True)\n",
    "        unique_records[key] = record\n",
    "    \n",
    "    unique_list = list(unique_records.values())\n",
    "    \n",
    "    with open(f'../data/cleaned_MongoDB/{name}+_fixed', 'w', encoding='utf-8') as f:\n",
    "        json.dump(unique_list, f)\n",
    "\n"
   ],
   "id": "7485c519a04133a2",
   "outputs": [
    {
     "name": "stdout",
     "output_type": "stream",
     "text": [
      "Обработка завершена: исходных записей 3814, уникальных записей 1907\n"
     ]
    }
   ],
   "execution_count": 66
  },
  {
   "metadata": {
    "ExecuteTime": {
     "end_time": "2025-03-09T16:34:46.230555Z",
     "start_time": "2025-03-09T16:34:46.223254Z"
    }
   },
   "cell_type": "code",
   "source": "",
   "id": "30cdd50f6b204692",
   "outputs": [
    {
     "data": {
      "text/plain": [
       "1588762"
      ]
     },
     "execution_count": 61,
     "metadata": {},
     "output_type": "execute_result"
    }
   ],
   "execution_count": 61
  },
  {
   "metadata": {},
   "cell_type": "markdown",
   "source": "### Clean Data for Neo4j\n",
   "id": "700e6c285731c956"
  },
  {
   "metadata": {
    "ExecuteTime": {
     "end_time": "2025-03-09T16:27:15.387197Z",
     "start_time": "2025-03-09T16:27:15.326256Z"
    }
   },
   "cell_type": "code",
   "source": [
    "with open(f'../data/cleaned_MongoDB/campaigns.json', 'r+') as f:\n",
    "    data = json.load(f)\n",
    "    len(data)"
   ],
   "id": "32f346aabfe9ee8",
   "outputs": [
    {
     "ename": "JSONDecodeError",
     "evalue": "Extra data: line 1 column 756243 (char 756242)",
     "output_type": "error",
     "traceback": [
      "\u001B[1;31m---------------------------------------------------------------------------\u001B[0m",
      "\u001B[1;31mJSONDecodeError\u001B[0m                           Traceback (most recent call last)",
      "Cell \u001B[1;32mIn[42], line 2\u001B[0m\n\u001B[0;32m      1\u001B[0m \u001B[38;5;28;01mwith\u001B[39;00m \u001B[38;5;28mopen\u001B[39m(\u001B[38;5;124mf\u001B[39m\u001B[38;5;124m'\u001B[39m\u001B[38;5;124m../data/cleaned_MongoDB/campaigns.json\u001B[39m\u001B[38;5;124m'\u001B[39m, \u001B[38;5;124m'\u001B[39m\u001B[38;5;124mr+\u001B[39m\u001B[38;5;124m'\u001B[39m) \u001B[38;5;28;01mas\u001B[39;00m f:\n\u001B[1;32m----> 2\u001B[0m     data \u001B[38;5;241m=\u001B[39m \u001B[43mjson\u001B[49m\u001B[38;5;241;43m.\u001B[39;49m\u001B[43mload\u001B[49m\u001B[43m(\u001B[49m\u001B[43mf\u001B[49m\u001B[43m)\u001B[49m\n\u001B[0;32m      3\u001B[0m     \u001B[38;5;28mlen\u001B[39m(data)\n",
      "File \u001B[1;32m~\\AppData\\Local\\Programs\\Python\\Python313\\Lib\\json\\__init__.py:293\u001B[0m, in \u001B[0;36mload\u001B[1;34m(fp, cls, object_hook, parse_float, parse_int, parse_constant, object_pairs_hook, **kw)\u001B[0m\n\u001B[0;32m    274\u001B[0m \u001B[38;5;28;01mdef\u001B[39;00m\u001B[38;5;250m \u001B[39m\u001B[38;5;21mload\u001B[39m(fp, \u001B[38;5;241m*\u001B[39m, \u001B[38;5;28mcls\u001B[39m\u001B[38;5;241m=\u001B[39m\u001B[38;5;28;01mNone\u001B[39;00m, object_hook\u001B[38;5;241m=\u001B[39m\u001B[38;5;28;01mNone\u001B[39;00m, parse_float\u001B[38;5;241m=\u001B[39m\u001B[38;5;28;01mNone\u001B[39;00m,\n\u001B[0;32m    275\u001B[0m         parse_int\u001B[38;5;241m=\u001B[39m\u001B[38;5;28;01mNone\u001B[39;00m, parse_constant\u001B[38;5;241m=\u001B[39m\u001B[38;5;28;01mNone\u001B[39;00m, object_pairs_hook\u001B[38;5;241m=\u001B[39m\u001B[38;5;28;01mNone\u001B[39;00m, \u001B[38;5;241m*\u001B[39m\u001B[38;5;241m*\u001B[39mkw):\n\u001B[0;32m    276\u001B[0m \u001B[38;5;250m    \u001B[39m\u001B[38;5;124;03m\"\"\"Deserialize ``fp`` (a ``.read()``-supporting file-like object containing\u001B[39;00m\n\u001B[0;32m    277\u001B[0m \u001B[38;5;124;03m    a JSON document) to a Python object.\u001B[39;00m\n\u001B[0;32m    278\u001B[0m \n\u001B[1;32m   (...)\u001B[0m\n\u001B[0;32m    291\u001B[0m \u001B[38;5;124;03m    kwarg; otherwise ``JSONDecoder`` is used.\u001B[39;00m\n\u001B[0;32m    292\u001B[0m \u001B[38;5;124;03m    \"\"\"\u001B[39;00m\n\u001B[1;32m--> 293\u001B[0m     \u001B[38;5;28;01mreturn\u001B[39;00m \u001B[43mloads\u001B[49m\u001B[43m(\u001B[49m\u001B[43mfp\u001B[49m\u001B[38;5;241;43m.\u001B[39;49m\u001B[43mread\u001B[49m\u001B[43m(\u001B[49m\u001B[43m)\u001B[49m\u001B[43m,\u001B[49m\n\u001B[0;32m    294\u001B[0m \u001B[43m        \u001B[49m\u001B[38;5;28;43mcls\u001B[39;49m\u001B[38;5;241;43m=\u001B[39;49m\u001B[38;5;28;43mcls\u001B[39;49m\u001B[43m,\u001B[49m\u001B[43m \u001B[49m\u001B[43mobject_hook\u001B[49m\u001B[38;5;241;43m=\u001B[39;49m\u001B[43mobject_hook\u001B[49m\u001B[43m,\u001B[49m\n\u001B[0;32m    295\u001B[0m \u001B[43m        \u001B[49m\u001B[43mparse_float\u001B[49m\u001B[38;5;241;43m=\u001B[39;49m\u001B[43mparse_float\u001B[49m\u001B[43m,\u001B[49m\u001B[43m \u001B[49m\u001B[43mparse_int\u001B[49m\u001B[38;5;241;43m=\u001B[39;49m\u001B[43mparse_int\u001B[49m\u001B[43m,\u001B[49m\n\u001B[0;32m    296\u001B[0m \u001B[43m        \u001B[49m\u001B[43mparse_constant\u001B[49m\u001B[38;5;241;43m=\u001B[39;49m\u001B[43mparse_constant\u001B[49m\u001B[43m,\u001B[49m\u001B[43m \u001B[49m\u001B[43mobject_pairs_hook\u001B[49m\u001B[38;5;241;43m=\u001B[39;49m\u001B[43mobject_pairs_hook\u001B[49m\u001B[43m,\u001B[49m\u001B[43m \u001B[49m\u001B[38;5;241;43m*\u001B[39;49m\u001B[38;5;241;43m*\u001B[39;49m\u001B[43mkw\u001B[49m\u001B[43m)\u001B[49m\n",
      "File \u001B[1;32m~\\AppData\\Local\\Programs\\Python\\Python313\\Lib\\json\\__init__.py:346\u001B[0m, in \u001B[0;36mloads\u001B[1;34m(s, cls, object_hook, parse_float, parse_int, parse_constant, object_pairs_hook, **kw)\u001B[0m\n\u001B[0;32m    341\u001B[0m     s \u001B[38;5;241m=\u001B[39m s\u001B[38;5;241m.\u001B[39mdecode(detect_encoding(s), \u001B[38;5;124m'\u001B[39m\u001B[38;5;124msurrogatepass\u001B[39m\u001B[38;5;124m'\u001B[39m)\n\u001B[0;32m    343\u001B[0m \u001B[38;5;28;01mif\u001B[39;00m (\u001B[38;5;28mcls\u001B[39m \u001B[38;5;129;01mis\u001B[39;00m \u001B[38;5;28;01mNone\u001B[39;00m \u001B[38;5;129;01mand\u001B[39;00m object_hook \u001B[38;5;129;01mis\u001B[39;00m \u001B[38;5;28;01mNone\u001B[39;00m \u001B[38;5;129;01mand\u001B[39;00m\n\u001B[0;32m    344\u001B[0m         parse_int \u001B[38;5;129;01mis\u001B[39;00m \u001B[38;5;28;01mNone\u001B[39;00m \u001B[38;5;129;01mand\u001B[39;00m parse_float \u001B[38;5;129;01mis\u001B[39;00m \u001B[38;5;28;01mNone\u001B[39;00m \u001B[38;5;129;01mand\u001B[39;00m\n\u001B[0;32m    345\u001B[0m         parse_constant \u001B[38;5;129;01mis\u001B[39;00m \u001B[38;5;28;01mNone\u001B[39;00m \u001B[38;5;129;01mand\u001B[39;00m object_pairs_hook \u001B[38;5;129;01mis\u001B[39;00m \u001B[38;5;28;01mNone\u001B[39;00m \u001B[38;5;129;01mand\u001B[39;00m \u001B[38;5;129;01mnot\u001B[39;00m kw):\n\u001B[1;32m--> 346\u001B[0m     \u001B[38;5;28;01mreturn\u001B[39;00m \u001B[43m_default_decoder\u001B[49m\u001B[38;5;241;43m.\u001B[39;49m\u001B[43mdecode\u001B[49m\u001B[43m(\u001B[49m\u001B[43ms\u001B[49m\u001B[43m)\u001B[49m\n\u001B[0;32m    347\u001B[0m \u001B[38;5;28;01mif\u001B[39;00m \u001B[38;5;28mcls\u001B[39m \u001B[38;5;129;01mis\u001B[39;00m \u001B[38;5;28;01mNone\u001B[39;00m:\n\u001B[0;32m    348\u001B[0m     \u001B[38;5;28mcls\u001B[39m \u001B[38;5;241m=\u001B[39m JSONDecoder\n",
      "File \u001B[1;32m~\\AppData\\Local\\Programs\\Python\\Python313\\Lib\\json\\decoder.py:348\u001B[0m, in \u001B[0;36mJSONDecoder.decode\u001B[1;34m(self, s, _w)\u001B[0m\n\u001B[0;32m    346\u001B[0m end \u001B[38;5;241m=\u001B[39m _w(s, end)\u001B[38;5;241m.\u001B[39mend()\n\u001B[0;32m    347\u001B[0m \u001B[38;5;28;01mif\u001B[39;00m end \u001B[38;5;241m!=\u001B[39m \u001B[38;5;28mlen\u001B[39m(s):\n\u001B[1;32m--> 348\u001B[0m     \u001B[38;5;28;01mraise\u001B[39;00m JSONDecodeError(\u001B[38;5;124m\"\u001B[39m\u001B[38;5;124mExtra data\u001B[39m\u001B[38;5;124m\"\u001B[39m, s, end)\n\u001B[0;32m    349\u001B[0m \u001B[38;5;28;01mreturn\u001B[39;00m obj\n",
      "\u001B[1;31mJSONDecodeError\u001B[0m: Extra data: line 1 column 756243 (char 756242)"
     ]
    }
   ],
   "execution_count": 42
  },
  {
   "metadata": {
    "ExecuteTime": {
     "end_time": "2025-03-06T20:37:20.668139Z",
     "start_time": "2025-03-06T20:37:20.018428Z"
    }
   },
   "cell_type": "code",
   "source": [
    "import pandas as pd\n",
    "from datetime import datetime"
   ],
   "id": "948edf965e78b426",
   "outputs": [],
   "execution_count": 1
  },
  {
   "metadata": {
    "ExecuteTime": {
     "end_time": "2025-03-09T13:47:00.104784Z",
     "start_time": "2025-03-09T13:47:00.099003Z"
    }
   },
   "cell_type": "code",
   "source": [
    "def clean_events_neo(events : pd.core.frame.DataFrame):\n",
    "    \n",
    "    events['event_time'] = events['event_time'].astype(str).str.replace(\" UTC\", \"\", regex=False)\n",
    "    events['event_time'] = pd.to_datetime(events['event_time'])\n",
    "    \n",
    "    events['price'] = pd.to_numeric(events['price'])\n",
    "    \n",
    "    products = pd.DataFrame()\n",
    "    \n",
    "    products['product_id'] = events['product_id']\n",
    "    products['category_id'] = events['category_id']\n",
    "    products['price'] = events['price']\n",
    "    products['brand'] = events['brand']\n",
    "    products['category_code'] = events['category_code']\n",
    "    \n",
    "    events = events.drop(columns=['category_code','brand', 'price'])\n",
    "\n",
    "        \n",
    "    products['brand'] = products.groupby(['product_id', 'category_id', 'category_code'])['brand'].transform('first')\n",
    "    \n",
    "    \n",
    "    return events, products"
   ],
   "id": "7df6402560e02898",
   "outputs": [],
   "execution_count": 24
  },
  {
   "metadata": {
    "ExecuteTime": {
     "end_time": "2025-03-09T13:47:04.765649Z",
     "start_time": "2025-03-09T13:47:01.795995Z"
    }
   },
   "cell_type": "code",
   "source": "events_neo, products_neo = clean_events_neo(events)",
   "id": "dbe79506331b054f",
   "outputs": [],
   "execution_count": 25
  },
  {
   "metadata": {
    "ExecuteTime": {
     "end_time": "2025-03-09T13:47:13.782523Z",
     "start_time": "2025-03-09T13:47:04.766974Z"
    }
   },
   "cell_type": "code",
   "source": [
    "events_neo.to_csv('../data/cleaned_data_neo/Clean_Events_Neo.csv', index=False)\n",
    "products_neo.to_csv(f'../data/cleaned_data_neo/Clean_Products_Neo.csv', index=False)"
   ],
   "id": "24fa8e19c2b78d54",
   "outputs": [],
   "execution_count": 26
  },
  {
   "metadata": {},
   "cell_type": "code",
   "outputs": [],
   "execution_count": null,
   "source": "",
   "id": "63f1215fb57ebbd3"
  }
 ],
 "metadata": {
  "kernelspec": {
   "display_name": "Python 3",
   "language": "python",
   "name": "python3"
  },
  "language_info": {
   "codemirror_mode": {
    "name": "ipython",
    "version": 2
   },
   "file_extension": ".py",
   "mimetype": "text/x-python",
   "name": "python",
   "nbconvert_exporter": "python",
   "pygments_lexer": "ipython2",
   "version": "2.7.6"
  }
 },
 "nbformat": 4,
 "nbformat_minor": 5
}
